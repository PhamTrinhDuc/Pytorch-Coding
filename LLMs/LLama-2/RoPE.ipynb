{
 "cells": [
  {
   "cell_type": "code",
   "execution_count": null,
   "metadata": {},
   "outputs": [],
   "source": []
  },
  {
   "cell_type": "code",
   "execution_count": null,
   "metadata": {},
   "outputs": [],
   "source": []
  },
  {
   "cell_type": "code",
   "execution_count": 18,
   "metadata": {},
   "outputs": [
    {
     "name": "stdout",
     "output_type": "stream",
     "text": [
      "Input ban đầu: \n",
      " [[[-0.24314441  0.64129783 -1.48134646  0.20391021]\n",
      "  [ 1.64537239 -1.19141783  0.26323719  0.75622655]\n",
      "  [-0.05689482 -0.57656691 -0.90053521 -0.55618454]\n",
      "  [-0.39824614  0.47397978  0.0374363   0.16878115]\n",
      "  [ 2.50906045 -0.40204966  0.13305711  0.44976982]]\n",
      "\n",
      " [[-0.68544005 -0.11787256  0.27565739 -0.18706384]\n",
      "  [-1.82798017  0.54962275 -0.50693675 -2.09208557]\n",
      "  [-1.83634144  1.00950172 -1.09028858  0.74820996]\n",
      "  [-0.91144391 -1.01720723 -0.07255097  0.4692317 ]\n",
      "  [-0.16313392 -1.07272326  1.46489373 -0.7712628 ]]]\n",
      "\n",
      "Kết quả sau khi áp dụng RoPE:\n",
      " [[[-0.24314441  0.64129783 -1.48134646  0.20391021]\n",
      "  [ 1.89154203  0.74080732  0.25566189  0.75882106]\n",
      "  [ 0.54794741  0.18820218 -0.88923216 -0.57408281]\n",
      "  [ 0.32737266 -0.52543692  0.03235678  0.16982812]\n",
      "  [-1.94430355 -1.63606602  0.11496468  0.45473091]]\n",
      "\n",
      " [[-0.68544005 -0.11787256  0.27565739 -0.18706384]\n",
      "  [-1.4501535  -1.24122983 -0.48599089 -2.09705024]\n",
      "  [-0.15374964 -2.08988149 -1.10503373  0.72625601]\n",
      "  [ 1.04587092  0.87840455 -0.08659316  0.46684436]\n",
      "  [-0.70520819  0.82463888  1.49456426 -0.71206575]]]\n"
     ]
    }
   ],
   "source": [
    "import numpy as np\n",
    "\n",
    "def rotary_positional_embedding(x: np.ndarray, \n",
    "                              seq_len: int, \n",
    "                              embed_dim: int):\n",
    "    \n",
    "    \"\"\"\n",
    "    Áp dụng Rotary Positional Embedding cho vector ẩn.\n",
    "    \n",
    "    Args:\n",
    "        x: Tensor input (batch_size, seq_len, dim).\n",
    "        seq_len: Chiều dài chuỗi (sequence length).\n",
    "        dim: Kích thước vector (embedding dimension).\n",
    "        \n",
    "    Returns:\n",
    "        Tensor sau khi áp dụng RoPE.\n",
    "    \"\"\"\n",
    "\n",
    "    # 1. Tách vector thành (even, odd)\n",
    "    x_even = x[:, :, 0::2]  # Các giá trị tại chỉ số chẵn\n",
    "    x_odd = x[:, :, 1::2]   # Các giá trị tại chỉ số lẻ\n",
    "\n",
    "\n",
    "    # 2. Tính góc xoay\n",
    "    positions = np.arange(start=0, stop=seq_len)[:, None] # # Vị trí từng token, shape: [seq_len, 1]\n",
    "    theta = np.arange(0, embed_dim, 2) / embed_dim # 2* k / d. Shape: [embed_dim / 2, ]\n",
    "    theta = 1 / (10000 ** (theta)) # 1 / (10000 ** (2 *k / d)). Shape: [embed_dim / 2, ]\n",
    "    # print(\"positions: \\n\", positions)\n",
    "    # print(\"theta: \\n\", theta)\n",
    "    angles = positions * theta # theta\n",
    "    # print(\"angles: \\n\", angles)\n",
    "\n",
    "    # 3. Tính cos/sin của góc\n",
    "    cos_angles = np.cos(angles)\n",
    "    sin_angles = np.sin(angles)\n",
    "\n",
    "    # 4. Áp dụng phép xoay cho từng cặp\n",
    "    x_rotated_even = x_even * cos_angles - x_odd * sin_angles\n",
    "    x_rotated_odd = x_even * sin_angles + x_odd * cos_angles\n",
    "\n",
    "    # ghép lại\n",
    "    x_rotated = np.ones_like(x)\n",
    "    x_rotated[:, :, 0::2] = x_rotated_even\n",
    "    x_rotated[:, :, 1::2] = x_rotated_odd\n",
    "\n",
    "    return x_rotated\n",
    "\n",
    "N = 2\n",
    "seq_len = 5\n",
    "embed_dim = 4\n",
    "\n",
    "mock_data = np.random.randn(N, seq_len, embed_dim)\n",
    "\n",
    "# In dữ liệu gốc\n",
    "print(\"Input ban đầu: \\n\", mock_data)\n",
    "\n",
    "# Áp dụng RoPE\n",
    "x_rotated = rotary_positional_embedding(x=mock_data, seq_len=seq_len, embed_dim=embed_dim)\n",
    "\n",
    "# In kết quả\n",
    "print(\"\\nKết quả sau khi áp dụng RoPE:\\n\",  x_rotated)\n"
   ]
  },
  {
   "cell_type": "code",
   "execution_count": null,
   "metadata": {},
   "outputs": [],
   "source": []
  }
 ],
 "metadata": {
  "kernelspec": {
   "display_name": "base",
   "language": "python",
   "name": "python3"
  },
  "language_info": {
   "codemirror_mode": {
    "name": "ipython",
    "version": 3
   },
   "file_extension": ".py",
   "mimetype": "text/x-python",
   "name": "python",
   "nbconvert_exporter": "python",
   "pygments_lexer": "ipython3",
   "version": "3.11.7"
  }
 },
 "nbformat": 4,
 "nbformat_minor": 2
}
