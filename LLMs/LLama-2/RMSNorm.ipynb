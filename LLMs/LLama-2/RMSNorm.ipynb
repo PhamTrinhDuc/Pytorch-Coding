{
 "cells": [
  {
   "cell_type": "code",
   "execution_count": null,
   "metadata": {},
   "outputs": [],
   "source": []
  },
  {
   "cell_type": "code",
   "execution_count": 3,
   "metadata": {},
   "outputs": [
    {
     "name": "stdout",
     "output_type": "stream",
     "text": [
      "/home/ducpham/Documents/Pytorch-Coding/LLMs/LLama-2\n"
     ]
    }
   ],
   "source": [
    "%cd ."
   ]
  },
  {
   "cell_type": "markdown",
   "metadata": {},
   "source": [
    "\n",
    "![rmsnorm](./images/rmsnorm.png)\n"
   ]
  },
  {
   "cell_type": "code",
   "execution_count": 1,
   "metadata": {},
   "outputs": [
    {
     "name": "stdout",
     "output_type": "stream",
     "text": [
      "Input ban đầu: \n",
      " [[[-0.32772083 -0.1605637  -0.56943102  0.60948492]\n",
      "  [ 0.46251912 -0.04604917  0.00766852  0.46227308]\n",
      "  [ 0.51020807 -1.72793938 -0.38013306  0.37363672]\n",
      "  [ 0.46067156 -1.81651267  0.79305923 -0.31186489]\n",
      "  [-0.41042423  0.35696675 -0.35761494  0.47272254]]\n",
      "\n",
      " [[ 1.53144503  0.71852416  0.6821972  -1.51452122]\n",
      "  [-0.37316003  0.2917227   0.80544638 -0.78087661]\n",
      "  [ 0.84235329 -0.85676978 -0.07746927  0.17458144]\n",
      "  [ 0.86718475  0.23922066 -1.04321104 -1.87570978]\n",
      "  [ 1.18891654 -0.96800854 -1.65356815  0.33720864]]]\n",
      "\n",
      "Kết quả sau khi áp dụng RSMNorm:\n",
      " [[[-0.71989982 -0.35270808 -1.25086127  1.33884712]\n",
      "  [ 1.41095577 -0.1404771   0.02339349  1.4102052 ]\n",
      "  [ 0.54309213 -1.83930899 -0.4046335   0.39771845]\n",
      "  [ 0.44753764 -1.76472321  0.77044881 -0.3029735 ]\n",
      "  [-1.02028951  0.8873975  -0.88900886  1.17515929]]\n",
      "\n",
      " [[ 1.29190298  0.6061357   0.57549084 -1.27762632]\n",
      "  [-0.61286879  0.47911815  1.3228452  -1.28249243]\n",
      "  [ 1.38475369 -1.40845311 -0.12735257  0.28699632]\n",
      "  [ 0.74525705  0.20558582 -0.89653373 -1.61198168]\n",
      "  [ 1.04288401 -0.84910975 -1.45046328  0.29578989]]]\n"
     ]
    }
   ],
   "source": [
    "import numpy as np\n",
    "\n",
    "class RSMNorm:\n",
    "    def __init__(self, embed_dim: int, esiplon = 1e-5, g: np.ndarray = None):\n",
    "        \"\"\"\n",
    "        Khởi tạo RMSNorm\n",
    "        :param embed_dim: Kích thước của vector embedding (embed_dim)\n",
    "        :param epsilon: Giá trị nhỏ để tránh chia cho 0\n",
    "        \"\"\"\n",
    "        \n",
    "        self.g = g or np.ones(shape=embed_dim)\n",
    "        self.embed_dim = embed_dim\n",
    "        self.esiplon = esiplon\n",
    "\n",
    "    def forward(self, x):\n",
    "        rms = np.sqrt(np.mean(x ** 2, axis=-1, keepdims=True)) + self.esiplon\n",
    "        x_hat = x / rms\n",
    "        y = self.g * x_hat\n",
    "\n",
    "        return y\n",
    "\n",
    "\n",
    "N = 2\n",
    "seq_len = 5\n",
    "embed_dim = 4\n",
    "\n",
    "mock_data = np.random.randn(N, seq_len, embed_dim)\n",
    "\n",
    "rsmnorm = RSMNorm(embed_dim=embed_dim)\n",
    "# In dữ liệu gốc\n",
    "print(\"Input ban đầu: \\n\", mock_data)\n",
    "\n",
    "# Áp dụng RoPE\n",
    "x_rotated = rsmnorm.forward(x=mock_data)\n",
    "\n",
    "# In kết quả\n",
    "print(\"\\nKết quả sau khi áp dụng RSMNorm:\\n\",  x_rotated)\n"
   ]
  },
  {
   "cell_type": "code",
   "execution_count": null,
   "metadata": {},
   "outputs": [],
   "source": []
  }
 ],
 "metadata": {
  "kernelspec": {
   "display_name": "base",
   "language": "python",
   "name": "python3"
  },
  "language_info": {
   "codemirror_mode": {
    "name": "ipython",
    "version": 3
   },
   "file_extension": ".py",
   "mimetype": "text/x-python",
   "name": "python",
   "nbconvert_exporter": "python",
   "pygments_lexer": "ipython3",
   "version": "3.11.7"
  }
 },
 "nbformat": 4,
 "nbformat_minor": 2
}
