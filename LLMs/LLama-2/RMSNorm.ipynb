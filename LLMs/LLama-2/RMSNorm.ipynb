{
 "cells": [
  {
   "cell_type": "code",
   "execution_count": null,
   "metadata": {},
   "outputs": [],
   "source": []
  },
  {
   "cell_type": "code",
   "execution_count": 3,
   "metadata": {},
   "outputs": [
    {
     "name": "stdout",
     "output_type": "stream",
     "text": [
      "/home/ducpham/Documents/Pytorch-Coding/LLMs/LLama-2\n"
     ]
    }
   ],
   "source": [
    "%cd ."
   ]
  },
  {
   "cell_type": "markdown",
   "metadata": {},
   "source": [
    "\n",
    "![rmsnorm](./images/rmsnorm.png)\n"
   ]
  },
  {
   "cell_type": "code",
   "execution_count": 2,
   "metadata": {},
   "outputs": [],
   "source": [
    "import numpy as np\n",
    "\n",
    "class RSMNorm:\n",
    "    def __init__(self, embed_dim: int, esiplon = 1e-5, g: np.ndarray = None):\n",
    "        \"\"\"\n",
    "        Khởi tạo RMSNorm\n",
    "        :param embed_dim: Kích thước của vector embedding (embed_dim)\n",
    "        :param epsilon: Giá trị nhỏ để tránh chia cho 0\n",
    "        \"\"\"\n",
    "        \n",
    "        self.g = g or np.ones(shape=embed_dim)\n",
    "        self.embed_dim = embed_dim\n",
    "        self.esiplon = esiplon\n",
    "\n",
    "    def forward(self, x):\n",
    "        rms = np.sqrt(np.mean(x ** 2, axis=-1, keepdims=True)) + self.esiplon\n",
    "        x_hat = x / rms\n",
    "        y = self.g * x_hat\n",
    "\n",
    "        return y\n",
    "\n"
   ]
  },
  {
   "cell_type": "code",
   "execution_count": null,
   "metadata": {},
   "outputs": [],
   "source": []
  }
 ],
 "metadata": {
  "kernelspec": {
   "display_name": "base",
   "language": "python",
   "name": "python3"
  },
  "language_info": {
   "codemirror_mode": {
    "name": "ipython",
    "version": 3
   },
   "file_extension": ".py",
   "mimetype": "text/x-python",
   "name": "python",
   "nbconvert_exporter": "python",
   "pygments_lexer": "ipython3",
   "version": "3.11.7"
  }
 },
 "nbformat": 4,
 "nbformat_minor": 2
}
