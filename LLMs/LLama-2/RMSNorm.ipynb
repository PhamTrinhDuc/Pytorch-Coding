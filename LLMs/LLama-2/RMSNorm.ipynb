{
 "cells": [
  {
   "cell_type": "code",
   "execution_count": null,
   "metadata": {},
   "outputs": [],
   "source": []
  },
  {
   "cell_type": "code",
   "execution_count": 1,
   "metadata": {},
   "outputs": [
    {
     "name": "stdout",
     "output_type": "stream",
     "text": [
      "/home/ducpham/Documents/Pytorch-Coding/LLMs/LLama-2\n"
     ]
    }
   ],
   "source": [
    "%cd ."
   ]
  },
  {
   "cell_type": "markdown",
   "metadata": {},
   "source": [
    "\n",
    "![rmsnorm](./images/rmsnorm.png)\n"
   ]
  },
  {
   "cell_type": "code",
   "execution_count": 2,
   "metadata": {},
   "outputs": [
    {
     "name": "stdout",
     "output_type": "stream",
     "text": [
      "Input ban đầu: \n",
      " [[[-3.43513140e-01 -6.72918430e-01 -1.04812539e+00  5.69698544e-02]\n",
      "  [-2.26633066e-01  5.77801120e-01  5.31673312e-01  5.73052533e-01]\n",
      "  [-6.71123497e-01  1.13834147e+00 -3.95283523e-01 -1.11387074e+00]\n",
      "  [ 7.58797095e-01 -1.11951553e+00 -2.87599647e-01  1.57149547e+00]\n",
      "  [ 1.22324641e+00  1.23387642e+00 -9.24916051e-01  2.28491250e+00]]\n",
      "\n",
      " [[ 1.48017713e+00  3.49370086e-01  9.14797562e-02 -8.13545685e-02]\n",
      "  [ 3.56506906e-01  2.23377502e-01 -1.07823229e-01 -6.87698398e-01]\n",
      "  [-1.65978834e+00  4.12856456e-01  1.37795151e+00  1.39169058e+00]\n",
      "  [-1.00767140e-01  6.11475698e-01 -7.45880068e-01 -5.53850366e-01]\n",
      "  [ 1.56916729e+00 -4.38030137e-01 -2.80440122e-01 -2.88789793e-04]]]\n",
      "\n",
      "Kết quả sau khi áp dụng RSMNorm:\n",
      " [[[-5.31210092e-01 -1.04060375e+00 -1.62082529e+00  8.80984104e-02]\n",
      "  [-4.54101921e-01  1.15773309e+00  1.06530736e+00  1.14821840e+00]\n",
      "  [-7.57081369e-01  1.28414088e+00 -4.45911658e-01 -1.25653593e+00]\n",
      "  [ 7.25011796e-01 -1.06966931e+00 -2.74794326e-01  1.50152492e+00]\n",
      "  [ 8.11218525e-01  8.18268017e-01 -6.13375221e-01  1.51528207e+00]]\n",
      "\n",
      " [[ 1.94021214e+00  4.57953356e-01  1.19911415e-01 -1.06639347e-01]\n",
      "  [ 8.76609256e-01  5.49259448e-01 -2.65124853e-01 -1.69097084e+00]\n",
      "  [-1.27666538e+00  3.17558289e-01  1.05988393e+00  1.07045166e+00]\n",
      "  [-1.80460799e-01  1.09507318e+00 -1.33577388e+00 -9.91873735e-01]\n",
      "  [ 1.89840913e+00 -5.29937388e-01 -3.39281919e-01 -3.49383514e-04]]]\n"
     ]
    }
   ],
   "source": [
    "import numpy as np\n",
    "\n",
    "class RSMNorm:\n",
    "    def __init__(self, embed_dim: int, esiplon = 1e-5, g: np.ndarray = None):\n",
    "        \"\"\"\n",
    "        Khởi tạo RMSNorm\n",
    "        :param embed_dim: Kích thước của vector embedding (embed_dim)\n",
    "        :param epsilon: Giá trị nhỏ để tránh chia cho 0\n",
    "        \"\"\"\n",
    "        \n",
    "        self.g = g or np.ones(shape=embed_dim)\n",
    "        self.embed_dim = embed_dim\n",
    "        self.esiplon = esiplon\n",
    "\n",
    "    def forward(self, x):\n",
    "        rms = np.sqrt(np.mean(x ** 2, axis=-1, keepdims=True)) + self.esiplon\n",
    "        x_hat = x / rms\n",
    "        y = self.g * x_hat\n",
    "\n",
    "        return y\n",
    "\n",
    "\n",
    "N = 2\n",
    "seq_len = 5\n",
    "embed_dim = 4\n",
    "\n",
    "mock_data = np.random.randn(N, seq_len, embed_dim)\n",
    "\n",
    "rsmnorm = RSMNorm(embed_dim=embed_dim)\n",
    "# In dữ liệu gốc\n",
    "print(\"Input ban đầu: \\n\", mock_data)\n",
    "\n",
    "# Áp dụng RoPE\n",
    "x_rotated = rsmnorm.forward(x=mock_data)\n",
    "\n",
    "# In kết quả\n",
    "print(\"\\nKết quả sau khi áp dụng RSMNorm:\\n\",  x_rotated)\n"
   ]
  }
 ],
 "metadata": {
  "kernelspec": {
   "display_name": "base",
   "language": "python",
   "name": "python3"
  },
  "language_info": {
   "codemirror_mode": {
    "name": "ipython",
    "version": 3
   },
   "file_extension": ".py",
   "mimetype": "text/x-python",
   "name": "python",
   "nbconvert_exporter": "python",
   "pygments_lexer": "ipython3",
   "version": "3.11.7"
  }
 },
 "nbformat": 4,
 "nbformat_minor": 2
}
