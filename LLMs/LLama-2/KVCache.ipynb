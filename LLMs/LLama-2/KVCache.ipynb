{
 "cells": [
  {
   "cell_type": "code",
   "execution_count": null,
   "metadata": {},
   "outputs": [],
   "source": []
  },
  {
   "cell_type": "code",
   "execution_count": 1,
   "metadata": {},
   "outputs": [],
   "source": [
    "import numpy as np\n",
    "\n",
    "# Giả lập các giá trị Key, Value và Query cho các token.\n",
    "def dot_product_attention(Q, K, V):\n",
    "    \"\"\"\n",
    "    Tính toán attention score và trả về kết quả attention.\n",
    "    Q: Query vector\n",
    "    K: Key vector\n",
    "    V: Value vector\n",
    "    \"\"\"\n",
    "    # Tính toán trọng số attention (Q * K^T)\n",
    "    attention_scores = np.dot(Q, K.T)  # Dot product giữa Query và Key\n",
    "    attention_probs = np.exp(attention_scores) / np.sum(np.exp(attention_scores))  # Softmax chuẩn hóa trọng số\n",
    "    return np.dot(attention_probs, V)  # Trọng số nhân với Value\n"
   ]
  },
  {
   "cell_type": "code",
   "execution_count": 10,
   "metadata": {},
   "outputs": [],
   "source": [
    "# Giả lập các vector cho Key, Value và Query\n",
    "K1 = np.array([0.1, 0.2])\n",
    "V1 = np.array([0.5, 0.6])\n",
    "K2 = np.array([0.2, 0.3])\n",
    "V2 = np.array([0.7, 0.8])\n",
    "K3 = np.array([0.3, 0.4])\n",
    "V3 = np.array([0.9, 1.0])\n",
    "\n",
    "# Query vector cho các token\n",
    "Q1 = np.array([1.0, 0.5])\n",
    "Q2 = np.array([0.5, 1.0])\n",
    "Q3 = np.array([0.2, 0.8])"
   ]
  },
  {
   "cell_type": "code",
   "execution_count": 11,
   "metadata": {},
   "outputs": [
    {
     "name": "stdout",
     "output_type": "stream",
     "text": [
      "Kết quả khi không sử dụng KVCache:  [2.1 2.4]\n",
      "Thời gian không sử dụng KVCache:  0.0002090930938720703\n",
      "Kết quả khi sử dụng KVCache:  [2.1 2.4]\n",
      "Thời gian sử dụng KVCache:  0.00014710426330566406\n"
     ]
    }
   ],
   "source": [
    "\n",
    "# 1. Không sử dụng KVCache\n",
    "def without_KVCache():\n",
    "    result = 0\n",
    "    # Tính toán Attention cho từng token mà không lưu trữ Key và Value\n",
    "    result += dot_product_attention(Q1, K1, V1)  # Tính toán cho \"I\"\n",
    "    result += dot_product_attention(Q2, K2, V2)  # Tính toán cho \"love\"\n",
    "    result += dot_product_attention(Q3, K3, V3)  # Tính toán cho \"AI\"\n",
    "    return result\n",
    "\n",
    "# 2. Sử dụng KVCache\n",
    "def with_KVCache():\n",
    "    KVCache = {\n",
    "        \"I\": {\"K\": K1, \"V\": V1},\n",
    "        \"love\": {\"K\": K2, \"V\": V2},\n",
    "        \"AI\": {\"K\": K3, \"V\": V3}\n",
    "    }\n",
    "    \n",
    "    result = 0\n",
    "    # Sử dụng KVCache để lấy Key và Value, chỉ tính toán Query mới\n",
    "    result += dot_product_attention(Q3, KVCache[\"I\"][\"K\"], KVCache[\"I\"][\"V\"])  # Tính toán cho \"I\"\n",
    "    result += dot_product_attention(Q3, KVCache[\"love\"][\"K\"], KVCache[\"love\"][\"V\"])  # Tính toán cho \"love\"\n",
    "    result += dot_product_attention(Q3, KVCache[\"AI\"][\"K\"], KVCache[\"AI\"][\"V\"])  # Tính toán cho \"AI\"\n",
    "    return result\n",
    "\n",
    "# So sánh kết quả và thời gian tính toán\n",
    "import time\n",
    "\n",
    "# Không sử dụng KVCache\n",
    "start_time = time.time()\n",
    "result_no_cache = without_KVCache()\n",
    "time_no_cache = time.time() - start_time\n",
    "\n",
    "# Sử dụng KVCache\n",
    "start_time = time.time()\n",
    "result_with_cache = with_KVCache()\n",
    "time_with_cache = time.time() - start_time\n",
    "\n",
    "# In kết quả và thời gian thực hiện\n",
    "print(\"Kết quả khi không sử dụng KVCache: \", result_no_cache)\n",
    "print(\"Thời gian không sử dụng KVCache: \", time_no_cache)\n",
    "\n",
    "print(\"Kết quả khi sử dụng KVCache: \", result_with_cache)\n",
    "print(\"Thời gian sử dụng KVCache: \", time_with_cache)\n"
   ]
  },
  {
   "cell_type": "code",
   "execution_count": null,
   "metadata": {},
   "outputs": [],
   "source": []
  }
 ],
 "metadata": {
  "kernelspec": {
   "display_name": "base",
   "language": "python",
   "name": "python3"
  },
  "language_info": {
   "codemirror_mode": {
    "name": "ipython",
    "version": 3
   },
   "file_extension": ".py",
   "mimetype": "text/x-python",
   "name": "python",
   "nbconvert_exporter": "python",
   "pygments_lexer": "ipython3",
   "version": "3.11.7"
  }
 },
 "nbformat": 4,
 "nbformat_minor": 2
}
