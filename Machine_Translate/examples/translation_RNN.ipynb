{
 "cells": [
  {
   "cell_type": "code",
   "execution_count": null,
   "metadata": {},
   "outputs": [],
   "source": []
  },
  {
   "cell_type": "code",
   "execution_count": null,
   "metadata": {},
   "outputs": [],
   "source": []
  },
  {
   "cell_type": "markdown",
   "metadata": {},
   "source": [
    "### 1. Data"
   ]
  },
  {
   "cell_type": "code",
   "execution_count": 1,
   "metadata": {},
   "outputs": [
    {
     "name": "stderr",
     "output_type": "stream",
     "text": [
      "/home/ducpham/anaconda3/lib/python3.11/site-packages/torchtext/data/__init__.py:4: UserWarning: \n",
      "/!\\ IMPORTANT WARNING ABOUT TORCHTEXT STATUS /!\\ \n",
      "Torchtext is deprecated and the last released version will be 0.18 (this one). You can silence this warning by calling the following at the beginnign of your scripts: `import torchtext; torchtext.disable_torchtext_deprecation_warning()`\n",
      "  warnings.warn(torchtext._TORCHTEXT_DEPRECATION_MSG)\n",
      "/home/ducpham/anaconda3/lib/python3.11/site-packages/torchtext/vocab/__init__.py:4: UserWarning: \n",
      "/!\\ IMPORTANT WARNING ABOUT TORCHTEXT STATUS /!\\ \n",
      "Torchtext is deprecated and the last released version will be 0.18 (this one). You can silence this warning by calling the following at the beginnign of your scripts: `import torchtext; torchtext.disable_torchtext_deprecation_warning()`\n",
      "  warnings.warn(torchtext._TORCHTEXT_DEPRECATION_MSG)\n",
      "/home/ducpham/anaconda3/lib/python3.11/site-packages/torchtext/utils.py:4: UserWarning: \n",
      "/!\\ IMPORTANT WARNING ABOUT TORCHTEXT STATUS /!\\ \n",
      "Torchtext is deprecated and the last released version will be 0.18 (this one). You can silence this warning by calling the following at the beginnign of your scripts: `import torchtext; torchtext.disable_torchtext_deprecation_warning()`\n",
      "  warnings.warn(torchtext._TORCHTEXT_DEPRECATION_MSG)\n"
     ]
    }
   ],
   "source": [
    "import torch \n",
    "import torch.nn as nn\n",
    "from torchtext.data.utils import get_tokenizer\n",
    "from torchtext.vocab import build_vocab_from_iterator"
   ]
  },
  {
   "cell_type": "code",
   "execution_count": 3,
   "metadata": {},
   "outputs": [],
   "source": [
    "corpus_en = [\n",
    "    \"good morning\",\n",
    "    \"ai books\"    \n",
    "]\n",
    "data_size_en = len(corpus_en)\n",
    "\n",
    "# max vocabulary size and sequence length\n",
    "vocab_size_en = 7\n",
    "sequence_length_en = 3"
   ]
  },
  {
   "cell_type": "code",
   "execution_count": 4,
   "metadata": {},
   "outputs": [
    {
     "data": {
      "text/plain": [
       "{'morning': 6,\n",
       " 'good': 5,\n",
       " 'books': 4,\n",
       " 'ai': 3,\n",
       " '<eos>': 2,\n",
       " '<pad>': 1,\n",
       " '<unk>': 0}"
      ]
     },
     "execution_count": 4,
     "metadata": {},
     "output_type": "execute_result"
    }
   ],
   "source": [
    "tokenizer_en = get_tokenizer(\"basic_english\")\n",
    "\n",
    "def yield_token(examples):\n",
    "    for text in examples:\n",
    "        yield tokenizer_en(text)\n",
    "    \n",
    "vocab_en = build_vocab_from_iterator(iterator=yield_token(corpus_en), \n",
    "                                     max_tokens=vocab_size_en, \n",
    "                                     specials=[\"<unk>\", \"<pad>\", \"<eos>\"])\n",
    "\n",
    "vocab_en.set_default_index(vocab_en[\"<unk>\"])\n",
    "vocab_en.get_stoi()"
   ]
  },
  {
   "cell_type": "code",
   "execution_count": 5,
   "metadata": {},
   "outputs": [
    {
     "data": {
      "text/plain": [
       "tensor([[5, 6, 2],\n",
       "        [3, 4, 2]])"
      ]
     },
     "execution_count": 5,
     "metadata": {},
     "output_type": "execute_result"
    }
   ],
   "source": [
    "\n",
    "def vectorize_en(text, vocab_en, sequence_length_en):\n",
    "    tokens = text.split()\n",
    "    token_ids = [vocab_en[token] for token in tokens] + [vocab_en[\"<eos>\"]]\n",
    "\n",
    "    tokenn_ids_pad = token_ids[:sequence_length_en] + [vocab_en[\"<pad>\"]] * (sequence_length_en - len(token_ids))\n",
    "    return tokenn_ids_pad\n",
    "\n",
    "\n",
    "corpus_ids_en = []\n",
    "for sentence in corpus_en:\n",
    "    corpus_ids_en.append(vectorize_en(sentence, vocab_en, sequence_length_en))\n",
    "\n",
    "\n",
    "en_data = torch.tensor(corpus_ids_en, dtype=torch.long)\n",
    "en_data"
   ]
  },
  {
   "cell_type": "code",
   "execution_count": null,
   "metadata": {},
   "outputs": [],
   "source": []
  },
  {
   "cell_type": "code",
   "execution_count": null,
   "metadata": {},
   "outputs": [],
   "source": []
  },
  {
   "cell_type": "code",
   "execution_count": 6,
   "metadata": {},
   "outputs": [],
   "source": [
    "corpus_vn = [\n",
    "    \"chào buổi sáng\",\n",
    "    \"sách ai\"\n",
    "]\n",
    "data_size_vn = len(corpus_vn)\n",
    "\n",
    "# max vocabulary size and sequence length\n",
    "vocab_size_vn = 9\n",
    "sequence_length_vn = 4"
   ]
  },
  {
   "cell_type": "code",
   "execution_count": 7,
   "metadata": {},
   "outputs": [
    {
     "data": {
      "text/plain": [
       "{'sáng': 8,\n",
       " 'sách': 7,\n",
       " 'chào': 6,\n",
       " 'buổi': 5,\n",
       " 'ai': 4,\n",
       " '<eos>': 3,\n",
       " '<sos>': 2,\n",
       " '<pad>': 1,\n",
       " '<unk>': 0}"
      ]
     },
     "execution_count": 7,
     "metadata": {},
     "output_type": "execute_result"
    }
   ],
   "source": [
    "tokenizer_vi = get_tokenizer(\"basic_english\")\n",
    "\n",
    "def yield_token(examples):\n",
    "    for text in examples:\n",
    "        yield tokenizer_vi(text)\n",
    "\n",
    "\n",
    "vocab_vi = build_vocab_from_iterator(iterator=yield_token(corpus_vn), \n",
    "                                     max_tokens=vocab_size_vn, \n",
    "                                     specials=[\"<unk>\", \"<pad>\", \"<sos>\", \"<eos>\"])\n",
    "\n",
    "vocab_vi.set_default_index(vocab_vi[\"<unk>\"])\n",
    "vocab_vi.get_stoi()"
   ]
  },
  {
   "cell_type": "code",
   "execution_count": 8,
   "metadata": {},
   "outputs": [
    {
     "data": {
      "text/plain": [
       "tensor([[2, 6, 5, 8, 3],\n",
       "        [2, 7, 4, 3, 1]])"
      ]
     },
     "execution_count": 8,
     "metadata": {},
     "output_type": "execute_result"
    }
   ],
   "source": [
    "def vectorize_vi(text, vocab_vi, sequence_length_vn):\n",
    "    tokens = text.split()\n",
    "    token_ids = [vocab_vi[\"<sos>\"]] + [vocab_vi[token] for token in tokens] + [vocab_vi[\"<eos>\"]]\n",
    "    token_ids_pad = token_ids[:sequence_length_vn] + [vocab_vi[\"<pad>\"]] * (sequence_length_vn - len(token_ids))\n",
    "\n",
    "    return token_ids_pad\n",
    "\n",
    "corpus_ids_vi = []\n",
    "\n",
    "for sentence in corpus_vn:\n",
    "    corpus_ids_vi.append(vectorize_vi(sentence, vocab_vi, sequence_length_vn + 1))\n",
    "\n",
    "data_vi = torch.tensor(corpus_ids_vi, dtype=torch.long)\n",
    "data_vi"
   ]
  },
  {
   "cell_type": "code",
   "execution_count": 9,
   "metadata": {},
   "outputs": [
    {
     "name": "stdout",
     "output_type": "stream",
     "text": [
      "tensor([[2, 6, 5, 8],\n",
      "        [2, 7, 4, 3]])\n",
      "tensor([[6, 5, 8, 3],\n",
      "        [7, 4, 3, 1]])\n"
     ]
    }
   ],
   "source": [
    "input_vn_data = []\n",
    "output_vn_data = []\n",
    "\n",
    "for vector in corpus_ids_vi:\n",
    "    input_vn_data.append(vector[:-1])\n",
    "    output_vn_data.append(vector[1:])\n",
    "\n",
    "input_vn_data = torch.tensor(input_vn_data, dtype=torch.long)\n",
    "output_vn_data = torch.tensor(output_vn_data, dtype=torch.long)\n",
    "\n",
    "# print\n",
    "print(input_vn_data)\n",
    "print(output_vn_data)"
   ]
  },
  {
   "cell_type": "code",
   "execution_count": null,
   "metadata": {},
   "outputs": [],
   "source": []
  },
  {
   "cell_type": "markdown",
   "metadata": {},
   "source": [
    "### 2. Model"
   ]
  },
  {
   "cell_type": "code",
   "execution_count": 10,
   "metadata": {},
   "outputs": [],
   "source": [
    "class Encoder(nn.Module):\n",
    "    def __init__(self, vocab_size_en, embed_dim, hidden_dim):\n",
    "        super().__init__()\n",
    "\n",
    "        self.embed_model = nn.Embedding(\n",
    "            num_embeddings=vocab_size_en, \n",
    "            embedding_dim=embed_dim\n",
    "        )\n",
    "\n",
    "        self.rnn = nn.RNN(input_size=embed_dim, \n",
    "                          hidden_size=hidden_dim, \n",
    "                          num_layers=1, \n",
    "                          batch_first=True, \n",
    "                          bidirectional=False)\n",
    "    \n",
    "    def forward(self, x): # shape: [N, sequence_len]\n",
    "        embedding = self.embed_model(x) # [N, sequence_len, embed_dim]\n",
    "        output_rnn, hidden_rnn = self.rnn(embedding) # ([N, sequence_len, hidden_dim], [num_layers, N, hidden_dim])\n",
    "        return hidden_rnn # [num_layers, N, hidden_dim]\n"
   ]
  },
  {
   "cell_type": "code",
   "execution_count": 12,
   "metadata": {},
   "outputs": [
    {
     "data": {
      "text/plain": [
       "torch.Size([2, 3])"
      ]
     },
     "execution_count": 12,
     "metadata": {},
     "output_type": "execute_result"
    }
   ],
   "source": [
    "en_data.shape"
   ]
  },
  {
   "cell_type": "code",
   "execution_count": 18,
   "metadata": {},
   "outputs": [
    {
     "name": "stdout",
     "output_type": "stream",
     "text": [
      "torch.Size([1, 2, 6])\n",
      "tensor([[[ 0.4592,  0.4791, -0.8377, -0.6844,  0.1064,  0.3388],\n",
      "         [ 0.4733,  0.5765, -0.7849, -0.5096,  0.0684,  0.0345]]],\n",
      "       grad_fn=<StackBackward0>)\n"
     ]
    }
   ],
   "source": [
    "\n",
    "embed_dim, hidden_dim = 6, 6\n",
    "encoder = Encoder(vocab_size_en=vocab_size_vn, embed_dim=embed_dim, hidden_dim=hidden_dim)\n",
    "hidden_context = encoder(en_data)\n",
    "print(hidden_context.shape)\n",
    "print(hidden_context)"
   ]
  },
  {
   "cell_type": "code",
   "execution_count": null,
   "metadata": {},
   "outputs": [],
   "source": []
  },
  {
   "cell_type": "code",
   "execution_count": 16,
   "metadata": {},
   "outputs": [],
   "source": [
    "class Decoder(nn.Module):\n",
    "    def __init__(self, vocab_size_vn, embed_dim, hidden_dim):\n",
    "        super().__init__()\n",
    "\n",
    "        self.embed_model = nn.Embedding(\n",
    "            num_embeddings=vocab_size_vn, \n",
    "            embedding_dim=embed_dim\n",
    "        )\n",
    "\n",
    "        self.decoder = nn.RNN(input_size=embed_dim, \n",
    "                              hidden_size=hidden_dim, \n",
    "                              batch_first=True,\n",
    "                              dropout=0.0, \n",
    "                              bidirectional=False, \n",
    "                              num_layers=1)\n",
    "        \n",
    "        self.linear = nn.Linear(in_features=hidden_dim, out_features=vocab_size_vn)\n",
    "\n",
    "    \n",
    "    def forward(self, input, hidden): # input: [N, sequence_len_vn]; hidden: [num_layer, N, hidden_dim]\n",
    "        embedding = self.embed_model(input) # [N, sequence_len_vn, embed_dim]\n",
    "        output_rnn, hidden_rnn = self.decoder(embedding, hidden) # ([N, sequence_len, hidden_dim], [num_layers, N, hidden_dim])\n",
    "        prediction = self.linear(output_rnn) # [N, sequence_len_vn, vocab_size_vn]\n",
    "        return prediction.permute(0, 2, 1) # [N, vocab_size_vn, sequence_len_vn]\n",
    "    "
   ]
  },
  {
   "cell_type": "code",
   "execution_count": 19,
   "metadata": {},
   "outputs": [
    {
     "name": "stdout",
     "output_type": "stream",
     "text": [
      "torch.Size([2, 9, 4])\n"
     ]
    }
   ],
   "source": [
    "decoder = Decoder(vocab_size_vn=vocab_size_vn, embed_dim=embed_dim, hidden_dim=hidden_dim)\n",
    "output = decoder(input_vn_data, hidden_context)\n",
    "print(output.shape)"
   ]
  },
  {
   "cell_type": "code",
   "execution_count": 21,
   "metadata": {},
   "outputs": [
    {
     "name": "stdout",
     "output_type": "stream",
     "text": [
      "torch.Size([2, 9, 4])\n",
      "Seq2Seq(\n",
      "  (encoder): Encoder(\n",
      "    (embed_model): Embedding(9, 6)\n",
      "    (rnn): RNN(6, 6, batch_first=True)\n",
      "  )\n",
      "  (decoder): Decoder(\n",
      "    (embed_model): Embedding(9, 6)\n",
      "    (decoder): RNN(6, 6, batch_first=True)\n",
      "    (linear): Linear(in_features=6, out_features=9, bias=True)\n",
      "  )\n",
      ")\n"
     ]
    }
   ],
   "source": [
    "class Seq2Seq(nn.Module):\n",
    "    def __init__(self, encoder, decoder):\n",
    "        super().__init__()\n",
    "        self.encoder = encoder\n",
    "        self.decoder = decoder\n",
    "\n",
    "    \n",
    "    def forward(self, sequence_en, sequence_vn):\n",
    "        hidden = self.encoder(sequence_en)\n",
    "        output = self.decoder(sequence_vn, hidden)\n",
    "        return output\n",
    "    \n",
    "model = Seq2Seq(encoder=encoder, decoder=decoder)\n",
    "outputs = model(en_data, input_vn_data)\n",
    "print(outputs.shape)\n",
    "print(model)"
   ]
  },
  {
   "cell_type": "code",
   "execution_count": null,
   "metadata": {},
   "outputs": [],
   "source": []
  },
  {
   "cell_type": "markdown",
   "metadata": {},
   "source": [
    "### 3. Train"
   ]
  },
  {
   "cell_type": "code",
   "execution_count": 22,
   "metadata": {},
   "outputs": [],
   "source": [
    "criterion = nn.CrossEntropyLoss()\n",
    "optimizer = torch.optim.Adam(model.parameters(), lr=0.05)"
   ]
  },
  {
   "cell_type": "code",
   "execution_count": 23,
   "metadata": {},
   "outputs": [
    {
     "name": "stdout",
     "output_type": "stream",
     "text": [
      "2.2895143032073975\n",
      "1.9922749996185303\n",
      "1.7623039484024048\n",
      "1.5574148893356323\n",
      "1.367702603340149\n",
      "1.202600359916687\n",
      "1.0652351379394531\n",
      "0.9447047114372253\n",
      "0.8351659774780273\n",
      "0.7307093143463135\n",
      "0.6370806097984314\n",
      "0.5528579950332642\n",
      "0.482318252325058\n",
      "0.4173257052898407\n",
      "0.36150291562080383\n",
      "0.31254658102989197\n",
      "0.26987481117248535\n",
      "0.23350460827350616\n",
      "0.20302051305770874\n",
      "0.17732924222946167\n",
      "0.15517204999923706\n",
      "0.13568568229675293\n",
      "0.11836788803339005\n",
      "0.10298648476600647\n",
      "0.08963319659233093\n",
      "0.07849900424480438\n",
      "0.06941844522953033\n",
      "0.06194249168038368\n",
      "0.05568516254425049\n",
      "0.05039449781179428\n",
      "0.04588649421930313\n",
      "0.042005036026239395\n",
      "0.03861824795603752\n",
      "0.03562465310096741\n",
      "0.03295455127954483\n"
     ]
    }
   ],
   "source": [
    "for _ in range(35):\n",
    "    optimizer.zero_grad()\n",
    "    outputs = model(en_data, input_vn_data)\n",
    "    loss = criterion(outputs, output_vn_data)\n",
    "    print(loss.item())\n",
    "    loss.backward()\n",
    "    optimizer.step()"
   ]
  },
  {
   "cell_type": "code",
   "execution_count": 24,
   "metadata": {},
   "outputs": [
    {
     "name": "stdout",
     "output_type": "stream",
     "text": [
      "tensor([[6, 5, 8, 3],\n",
      "        [7, 4, 3, 1]])\n"
     ]
    }
   ],
   "source": [
    "outputs = model(en_data, input_vn_data)\n",
    "print(torch.argmax(outputs, axis=1))"
   ]
  },
  {
   "cell_type": "code",
   "execution_count": 25,
   "metadata": {},
   "outputs": [
    {
     "data": {
      "text/plain": [
       "tensor([[6, 5, 8, 3],\n",
       "        [7, 4, 3, 1]])"
      ]
     },
     "execution_count": 25,
     "metadata": {},
     "output_type": "execute_result"
    }
   ],
   "source": [
    "output_vn_data"
   ]
  },
  {
   "cell_type": "code",
   "execution_count": null,
   "metadata": {},
   "outputs": [],
   "source": []
  }
 ],
 "metadata": {
  "kernelspec": {
   "display_name": "base",
   "language": "python",
   "name": "python3"
  },
  "language_info": {
   "codemirror_mode": {
    "name": "ipython",
    "version": 3
   },
   "file_extension": ".py",
   "mimetype": "text/x-python",
   "name": "python",
   "nbconvert_exporter": "python",
   "pygments_lexer": "ipython3",
   "version": "3.11.7"
  }
 },
 "nbformat": 4,
 "nbformat_minor": 2
}
