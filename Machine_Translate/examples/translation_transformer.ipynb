{
 "cells": [
  {
   "cell_type": "code",
   "execution_count": null,
   "metadata": {},
   "outputs": [],
   "source": []
  },
  {
   "cell_type": "markdown",
   "metadata": {},
   "source": [
    "### 1. Data"
   ]
  },
  {
   "cell_type": "code",
   "execution_count": 1,
   "metadata": {},
   "outputs": [],
   "source": [
    "import torch \n",
    "import torch.nn as nn\n",
    "from torchtext.data.utils import get_tokenizer\n",
    "from torchtext.vocab import build_vocab_from_iterator"
   ]
  },
  {
   "cell_type": "code",
   "execution_count": 7,
   "metadata": {},
   "outputs": [],
   "source": [
    "corpus_en = [\n",
    "    \"good morning\",\n",
    "    \"ai books\"    \n",
    "]\n",
    "data_size_en = len(corpus_en)\n",
    "\n",
    "# max vocabulary size and sequence length\n",
    "vocab_size_en = 7\n",
    "sequence_length_en = 3"
   ]
  },
  {
   "cell_type": "code",
   "execution_count": 8,
   "metadata": {},
   "outputs": [
    {
     "data": {
      "text/plain": [
       "{'morning': 6,\n",
       " 'good': 5,\n",
       " 'books': 4,\n",
       " 'ai': 3,\n",
       " '<eos>': 2,\n",
       " '<pad>': 1,\n",
       " '<unk>': 0}"
      ]
     },
     "execution_count": 8,
     "metadata": {},
     "output_type": "execute_result"
    }
   ],
   "source": [
    "tokenizer_en = get_tokenizer(\"basic_english\")\n",
    "\n",
    "def yield_token(examples):\n",
    "    for text in examples:\n",
    "        yield tokenizer_en(text)\n",
    "    \n",
    "vocab_en = build_vocab_from_iterator(iterator=yield_token(corpus_en), \n",
    "                                     max_tokens=vocab_size_en, \n",
    "                                     specials=[\"<unk>\", \"<pad>\", \"<eos>\"])\n",
    "\n",
    "vocab_en.set_default_index(vocab_en[\"<unk>\"])\n",
    "vocab_en.get_stoi()"
   ]
  },
  {
   "cell_type": "code",
   "execution_count": 20,
   "metadata": {},
   "outputs": [
    {
     "data": {
      "text/plain": [
       "tensor([[5, 6, 2],\n",
       "        [3, 4, 2]])"
      ]
     },
     "execution_count": 20,
     "metadata": {},
     "output_type": "execute_result"
    }
   ],
   "source": [
    "\n",
    "def vectorize_en(text, vocab_en, sequence_length_en):\n",
    "    tokens = text.split()\n",
    "    token_ids = [vocab_en[token] for token in tokens] + [vocab_en[\"<eos>\"]]\n",
    "\n",
    "    tokenn_ids_pad = token_ids[:sequence_length_en] + [vocab_en[\"<pad>\"]] * (sequence_length_en - len(token_ids))\n",
    "    return tokenn_ids_pad\n",
    "\n",
    "\n",
    "corpus_ids_en = []\n",
    "for sentence in corpus_en:\n",
    "    corpus_ids_en.append(vectorize_en(sentence, vocab_en, sequence_length_en))\n",
    "\n",
    "\n",
    "en_data = torch.tensor(corpus_ids_en, dtype=torch.long)\n",
    "en_data"
   ]
  },
  {
   "cell_type": "code",
   "execution_count": null,
   "metadata": {},
   "outputs": [],
   "source": []
  },
  {
   "cell_type": "code",
   "execution_count": null,
   "metadata": {},
   "outputs": [],
   "source": []
  },
  {
   "cell_type": "code",
   "execution_count": null,
   "metadata": {},
   "outputs": [],
   "source": []
  },
  {
   "cell_type": "code",
   "execution_count": 16,
   "metadata": {},
   "outputs": [],
   "source": [
    "corpus_vn = [\n",
    "    \"chào buổi sáng\",\n",
    "    \"sách ai\"\n",
    "]\n",
    "data_size_vn = len(corpus_vn)\n",
    "\n",
    "# max vocabulary size and sequence length\n",
    "vocab_size_vn = 9\n",
    "sequence_length_vn = 4"
   ]
  },
  {
   "cell_type": "code",
   "execution_count": 24,
   "metadata": {},
   "outputs": [
    {
     "data": {
      "text/plain": [
       "{'sáng': 8,\n",
       " 'sách': 7,\n",
       " 'chào': 6,\n",
       " 'buổi': 5,\n",
       " 'ai': 4,\n",
       " '<eos>': 3,\n",
       " '<sos>': 2,\n",
       " '<pad>': 1,\n",
       " '<unk>': 0}"
      ]
     },
     "execution_count": 24,
     "metadata": {},
     "output_type": "execute_result"
    }
   ],
   "source": [
    "tokenizer_vi = get_tokenizer(\"basic_english\")\n",
    "\n",
    "def yield_token(examples):\n",
    "    for text in examples:\n",
    "        yield tokenizer_vi(text)\n",
    "\n",
    "\n",
    "vocab_vi = build_vocab_from_iterator(iterator=yield_token(corpus_vn), \n",
    "                                     max_tokens=vocab_size_vn, \n",
    "                                     specials=[\"<unk>\", \"<pad>\", \"<sos>\", \"<eos>\"])\n",
    "\n",
    "vocab_vi.set_default_index(vocab_vi[\"<unk>\"])\n",
    "vocab_vi.get_stoi()"
   ]
  },
  {
   "cell_type": "code",
   "execution_count": 25,
   "metadata": {},
   "outputs": [
    {
     "data": {
      "text/plain": [
       "tensor([[2, 6, 5, 8, 3],\n",
       "        [2, 7, 4, 3, 1]])"
      ]
     },
     "execution_count": 25,
     "metadata": {},
     "output_type": "execute_result"
    }
   ],
   "source": [
    "def vectorize_vi(text, vocab_vi, sequence_length_vn):\n",
    "    tokens = text.split()\n",
    "    token_ids = [vocab_vi[\"<sos>\"]] + [vocab_vi[token] for token in tokens] + [vocab_vi[\"<eos>\"]]\n",
    "    token_ids_pad = token_ids[:sequence_length_vn] + [vocab_vi[\"<pad>\"]] * (sequence_length_vn - len(token_ids))\n",
    "\n",
    "    return token_ids_pad\n",
    "\n",
    "corpus_ids_vi = []\n",
    "\n",
    "for sentence in corpus_vn:\n",
    "    corpus_ids_vi.append(vectorize_vi(sentence, vocab_vi, sequence_length_vn + 1))\n",
    "\n",
    "data_vi = torch.tensor(corpus_ids_vi, dtype=torch.long)\n",
    "data_vi"
   ]
  },
  {
   "cell_type": "code",
   "execution_count": 26,
   "metadata": {},
   "outputs": [
    {
     "name": "stdout",
     "output_type": "stream",
     "text": [
      "tensor([[2, 6, 5, 8],\n",
      "        [2, 7, 4, 3]])\n",
      "tensor([[6, 5, 8, 3],\n",
      "        [7, 4, 3, 1]])\n"
     ]
    }
   ],
   "source": [
    "input_vn_data = []\n",
    "output_vn_data = []\n",
    "\n",
    "for vector in corpus_ids_vi:\n",
    "    input_vn_data.append(vector[:-1])\n",
    "    output_vn_data.append(vector[1:])\n",
    "\n",
    "input_vn_data = torch.tensor(input_vn_data, dtype=torch.long)\n",
    "output_vn_data = torch.tensor(output_vn_data, dtype=torch.long)\n",
    "\n",
    "# print\n",
    "print(input_vn_data)\n",
    "print(output_vn_data)"
   ]
  },
  {
   "cell_type": "markdown",
   "metadata": {},
   "source": [
    "### 2. Model"
   ]
  },
  {
   "cell_type": "code",
   "execution_count": 30,
   "metadata": {},
   "outputs": [],
   "source": [
    "class Encoder(nn.Module):\n",
    "    def __init__(self, vocab_size_en, embed_dim, n_heads):\n",
    "        super().__init__()\n",
    "        self.embeddding = nn.Embedding(\n",
    "            num_embeddings=vocab_size_en, \n",
    "            embedding_dim=embed_dim, \n",
    "        )\n",
    "\n",
    "        self.encoder = nn.TransformerEncoderLayer(\n",
    "            d_model=embed_dim, \n",
    "            nhead=n_heads, \n",
    "            dim_feedforward=6, \n",
    "            batch_first=True, \n",
    "            bias=True, \n",
    "            dropout=0.0\n",
    "        )\n",
    "\n",
    "    def forward(self, src): # [N, sequence_length]\n",
    "        embedding = self.embeddding(src) # [N, sequence_length, embed_dim]\n",
    "        context = self.encoder(embedding) # [N, sequence_length, embed_dim]\n",
    "        return context # [N, sequence_length, embed_dim]"
   ]
  },
  {
   "cell_type": "code",
   "execution_count": 28,
   "metadata": {},
   "outputs": [
    {
     "data": {
      "text/plain": [
       "torch.Size([2, 3])"
      ]
     },
     "execution_count": 28,
     "metadata": {},
     "output_type": "execute_result"
    }
   ],
   "source": [
    "en_data.shape"
   ]
  },
  {
   "cell_type": "code",
   "execution_count": 31,
   "metadata": {},
   "outputs": [
    {
     "name": "stdout",
     "output_type": "stream",
     "text": [
      "torch.Size([2, 3, 6])\n"
     ]
    }
   ],
   "source": [
    "\n",
    "embed_dim, n_heads = 6, 1\n",
    "encoder_layer = Encoder(vocab_size_en=vocab_size_en, embed_dim=embed_dim, n_heads=1)\n",
    "context = encoder_layer(en_data)\n",
    "print(context.shape)"
   ]
  },
  {
   "cell_type": "code",
   "execution_count": null,
   "metadata": {},
   "outputs": [],
   "source": []
  },
  {
   "cell_type": "code",
   "execution_count": 32,
   "metadata": {},
   "outputs": [],
   "source": [
    "class Decoder(nn.Module):\n",
    "    def __init__(self, vocab_size_vi, embed_dim, n_heads, sequence_length_vn):\n",
    "        super().__init__()\n",
    "\n",
    "        self.embedding = nn.Embedding(num_embeddings=vocab_size_vi, \n",
    "                                      embedding_dim=embed_dim)\n",
    "        self.mask = torch.triu(input=torch.ones(sequence_length_vn, sequence_length_vn), diagonal=1).bool()\n",
    "        self.decoder = nn.TransformerDecoderLayer(\n",
    "            d_model=embed_dim, \n",
    "            nhead=n_heads, \n",
    "            dim_feedforward=6, \n",
    "            bias=True, \n",
    "            batch_first=True, \n",
    "            dropout=0.0\n",
    "        )\n",
    "\n",
    "        self.linear = nn.Linear(embed_dim, vocab_size_vi)\n",
    "\n",
    "    def forward(self, input, context): # input: [N, sequence_len_en]; context: [N, sequence_len_vi, embed_dim]\n",
    "        embedding = self.embedding(input) # [N, sequence_len_vi, embed_dim]\n",
    "        output = self.decoder(embedding, context, tgt_mask=self.mask) # [N, sequence_len_vi, embed_dim]\n",
    "        predictions = self.linear(output) # [N, sequence_len_vi, vocab_size_vi]\n",
    "        return predictions.permute(0, 2, 1) # [N, vocab_size_vi, sequence_len_vi]"
   ]
  },
  {
   "cell_type": "code",
   "execution_count": 33,
   "metadata": {},
   "outputs": [
    {
     "data": {
      "text/plain": [
       "tensor([[2, 6, 5, 8],\n",
       "        [2, 7, 4, 3]])"
      ]
     },
     "execution_count": 33,
     "metadata": {},
     "output_type": "execute_result"
    }
   ],
   "source": [
    "input_vn_data"
   ]
  },
  {
   "cell_type": "code",
   "execution_count": 37,
   "metadata": {},
   "outputs": [
    {
     "name": "stdout",
     "output_type": "stream",
     "text": [
      "torch.Size([2, 9, 4])\n"
     ]
    }
   ],
   "source": [
    "decoder_layer = Decoder(vocab_size_vi=vocab_size_vn, embed_dim=embed_dim, n_heads=n_heads, sequence_length_vn=sequence_length_vn)\n",
    "output = decoder_layer(input_vn_data, context)\n",
    "print(output.shape)"
   ]
  },
  {
   "cell_type": "code",
   "execution_count": null,
   "metadata": {},
   "outputs": [],
   "source": []
  },
  {
   "cell_type": "code",
   "execution_count": 38,
   "metadata": {},
   "outputs": [
    {
     "name": "stdout",
     "output_type": "stream",
     "text": [
      "torch.Size([2, 9, 4])\n"
     ]
    }
   ],
   "source": [
    "class Seq2Seq(nn.Module):\n",
    "\n",
    "    def __init__(self, encoder, decoder):\n",
    "        super().__init__()\n",
    "        self.encoder = encoder\n",
    "        self.decoder = decoder\n",
    "\n",
    "    def forward(self, sequence_en, sequence_vi):\n",
    "        context = self.encoder(sequence_en)\n",
    "        output = self.decoder(sequence_vi, context)\n",
    "        return output\n",
    "    \n",
    "\n",
    "model = Seq2Seq(encoder=encoder_layer, decoder=decoder_layer)\n",
    "output = model(en_data, input_vn_data)\n",
    "print(output.shape)"
   ]
  },
  {
   "cell_type": "code",
   "execution_count": 39,
   "metadata": {},
   "outputs": [
    {
     "data": {
      "text/plain": [
       "torch.Size([2, 4])"
      ]
     },
     "execution_count": 39,
     "metadata": {},
     "output_type": "execute_result"
    }
   ],
   "source": [
    "output_vn_data.shape"
   ]
  },
  {
   "cell_type": "code",
   "execution_count": null,
   "metadata": {},
   "outputs": [],
   "source": []
  },
  {
   "cell_type": "markdown",
   "metadata": {},
   "source": [
    "### 3. Train "
   ]
  },
  {
   "cell_type": "code",
   "execution_count": 41,
   "metadata": {},
   "outputs": [],
   "source": [
    "criterion = nn.CrossEntropyLoss()\n",
    "optimizer = torch.optim.Adam(model.parameters(), lr=0.05)"
   ]
  },
  {
   "cell_type": "code",
   "execution_count": 42,
   "metadata": {},
   "outputs": [
    {
     "name": "stdout",
     "output_type": "stream",
     "text": [
      "2.4717018604278564\n",
      "2.0004782676696777\n",
      "1.7141073942184448\n",
      "1.456430435180664\n",
      "1.2691161632537842\n",
      "1.1028152704238892\n",
      "0.946965217590332\n",
      "0.8271654844284058\n",
      "0.7355573177337646\n",
      "0.6192213892936707\n",
      "0.5331056118011475\n",
      "0.4421507716178894\n",
      "0.3705432713031769\n",
      "0.3046678900718689\n",
      "0.24402225017547607\n",
      "0.1969178020954132\n",
      "0.14596310257911682\n",
      "0.11385639011859894\n",
      "0.08223186433315277\n",
      "0.07041727006435394\n",
      "0.050214268267154694\n",
      "0.05643398314714432\n",
      "0.04028531163930893\n",
      "0.02726457640528679\n",
      "0.021223798394203186\n",
      "0.01758846826851368\n",
      "0.013833574019372463\n",
      "0.010011861100792885\n",
      "0.006904289126396179\n",
      "0.0048629166558384895\n",
      "0.003721024375408888\n",
      "0.003095417283475399\n",
      "0.0027761294040828943\n",
      "0.0024280103389173746\n",
      "0.0020527122542262077\n"
     ]
    }
   ],
   "source": [
    "for _ in range(35):\n",
    "    optimizer.zero_grad()\n",
    "    outputs = model(en_data, input_vn_data)\n",
    "    loss = criterion(outputs, output_vn_data)\n",
    "    print(loss.item())\n",
    "    loss.backward()\n",
    "    optimizer.step()"
   ]
  },
  {
   "cell_type": "code",
   "execution_count": 43,
   "metadata": {},
   "outputs": [
    {
     "name": "stdout",
     "output_type": "stream",
     "text": [
      "tensor([[6, 5, 8, 3],\n",
      "        [7, 4, 3, 1]])\n"
     ]
    }
   ],
   "source": [
    "outputs = model(en_data, input_vn_data)\n",
    "print(torch.argmax(outputs, axis=1))"
   ]
  },
  {
   "cell_type": "code",
   "execution_count": 44,
   "metadata": {},
   "outputs": [
    {
     "data": {
      "text/plain": [
       "tensor([[6, 5, 8, 3],\n",
       "        [7, 4, 3, 1]])"
      ]
     },
     "execution_count": 44,
     "metadata": {},
     "output_type": "execute_result"
    }
   ],
   "source": [
    "output_vn_data"
   ]
  },
  {
   "cell_type": "code",
   "execution_count": null,
   "metadata": {},
   "outputs": [],
   "source": []
  }
 ],
 "metadata": {
  "kernelspec": {
   "display_name": "base",
   "language": "python",
   "name": "python3"
  },
  "language_info": {
   "codemirror_mode": {
    "name": "ipython",
    "version": 3
   },
   "file_extension": ".py",
   "mimetype": "text/x-python",
   "name": "python",
   "nbconvert_exporter": "python",
   "pygments_lexer": "ipython3",
   "version": "3.11.7"
  }
 },
 "nbformat": 4,
 "nbformat_minor": 2
}
