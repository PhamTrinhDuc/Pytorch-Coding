{
 "cells": [
  {
   "cell_type": "code",
   "execution_count": null,
   "metadata": {},
   "outputs": [],
   "source": []
  },
  {
   "cell_type": "code",
   "execution_count": 1,
   "metadata": {},
   "outputs": [],
   "source": [
    "import torch \n",
    "import torch.nn as nn\n",
    "from torchtext.data.utils import get_tokenizer\n",
    "from torchtext.vocab import build_vocab_from_iterator"
   ]
  },
  {
   "cell_type": "code",
   "execution_count": 7,
   "metadata": {},
   "outputs": [],
   "source": [
    "corpus_en = [\n",
    "    \"good morning\",\n",
    "    \"ai books\"    \n",
    "]\n",
    "data_size_en = len(corpus_en)\n",
    "\n",
    "# max vocabulary size and sequence length\n",
    "vocab_size_en = 7\n",
    "sequence_length_en = 3"
   ]
  },
  {
   "cell_type": "code",
   "execution_count": 8,
   "metadata": {},
   "outputs": [
    {
     "data": {
      "text/plain": [
       "{'morning': 6,\n",
       " 'good': 5,\n",
       " 'books': 4,\n",
       " 'ai': 3,\n",
       " '<eos>': 2,\n",
       " '<pad>': 1,\n",
       " '<unk>': 0}"
      ]
     },
     "execution_count": 8,
     "metadata": {},
     "output_type": "execute_result"
    }
   ],
   "source": [
    "tokenizer_en = get_tokenizer(\"basic_english\")\n",
    "\n",
    "def yield_token(examples):\n",
    "    for text in examples:\n",
    "        yield tokenizer_en(text)\n",
    "    \n",
    "vocab_en = build_vocab_from_iterator(iterator=yield_token(corpus_en), \n",
    "                                     max_tokens=vocab_size_en, \n",
    "                                     specials=[\"<unk>\", \"<pad>\", \"<eos>\"])\n",
    "\n",
    "vocab_en.set_default_index(vocab_en[\"<unk>\"])\n",
    "vocab_en.get_stoi()"
   ]
  },
  {
   "cell_type": "code",
   "execution_count": 20,
   "metadata": {},
   "outputs": [
    {
     "data": {
      "text/plain": [
       "tensor([[5, 6, 2],\n",
       "        [3, 4, 2]])"
      ]
     },
     "execution_count": 20,
     "metadata": {},
     "output_type": "execute_result"
    }
   ],
   "source": [
    "\n",
    "def vectorize_en(text, vocab_en, sequence_length_en):\n",
    "    tokens = text.split()\n",
    "    token_ids = [vocab_en[token] for token in tokens] + [vocab_en[\"<eos>\"]]\n",
    "\n",
    "    tokenn_ids_pad = token_ids[:sequence_length_en] + [vocab_en[\"<pad>\"]] * (sequence_length_en - len(token_ids))\n",
    "    return tokenn_ids_pad\n",
    "\n",
    "\n",
    "corpus_ids_en = []\n",
    "for sentence in corpus_en:\n",
    "    corpus_ids_en.append(vectorize_en(sentence, vocab_en, sequence_length_en))\n",
    "\n",
    "\n",
    "en_data = torch.tensor(corpus_ids_en, dtype=torch.long)\n",
    "en_data"
   ]
  },
  {
   "cell_type": "code",
   "execution_count": null,
   "metadata": {},
   "outputs": [],
   "source": []
  },
  {
   "cell_type": "code",
   "execution_count": null,
   "metadata": {},
   "outputs": [],
   "source": []
  },
  {
   "cell_type": "code",
   "execution_count": 16,
   "metadata": {},
   "outputs": [],
   "source": [
    "corpus_vn = [\n",
    "    \"chào buổi sáng\",\n",
    "    \"sách ai\"\n",
    "]\n",
    "data_size_vn = len(corpus_vn)\n",
    "\n",
    "# max vocabulary size and sequence length\n",
    "vocab_size_vn = 9\n",
    "sequence_length_vn = 4"
   ]
  },
  {
   "cell_type": "code",
   "execution_count": 17,
   "metadata": {},
   "outputs": [
    {
     "data": {
      "text/plain": [
       "{'sáng': 8,\n",
       " 'sách': 7,\n",
       " 'chào': 6,\n",
       " 'buổi': 5,\n",
       " 'ai': 4,\n",
       " '<sos>': 3,\n",
       " '<eos>': 2,\n",
       " '<pad>': 1,\n",
       " '<unk>': 0}"
      ]
     },
     "execution_count": 17,
     "metadata": {},
     "output_type": "execute_result"
    }
   ],
   "source": [
    "tokenizer_vi = get_tokenizer(\"basic_english\")\n",
    "\n",
    "def yield_token(examples):\n",
    "    for text in examples:\n",
    "        yield tokenizer_vi(text)\n",
    "\n",
    "\n",
    "vocab_vi = build_vocab_from_iterator(iterator=yield_token(corpus_vn), \n",
    "                                     max_tokens=vocab_size_vn, \n",
    "                                     specials=[\"<unk>\", \"<pad>\", \"<eos>\", \"<sos>\"])\n",
    "\n",
    "vocab_vi.set_default_index(vocab_vi[\"<unk>\"])\n",
    "vocab_vi.get_stoi()"
   ]
  },
  {
   "cell_type": "code",
   "execution_count": 19,
   "metadata": {},
   "outputs": [
    {
     "data": {
      "text/plain": [
       "tensor([[3, 6, 5, 8, 2],\n",
       "        [3, 7, 4, 2, 1]])"
      ]
     },
     "execution_count": 19,
     "metadata": {},
     "output_type": "execute_result"
    }
   ],
   "source": [
    "def vectorize_vi(text, vocab_vi, sequence_length_vn):\n",
    "    tokens = text.split()\n",
    "    token_ids = [vocab_vi[\"<sos>\"]] + [vocab_vi[token] for token in tokens] + [vocab_vi[\"<eos>\"]]\n",
    "    token_ids_pad = token_ids[:sequence_length_vn] + [vocab_vi[\"<pad>\"]] * (sequence_length_vn - len(token_ids))\n",
    "\n",
    "    return token_ids_pad\n",
    "\n",
    "corpus_ids_vi = []\n",
    "\n",
    "for sentence in corpus_vn:\n",
    "    corpus_ids_vi.append(vectorize_vi(sentence, vocab_vi, sequence_length_vn + 1))\n",
    "\n",
    "data_vi = torch.tensor(corpus_ids_vi, dtype=torch.long)\n",
    "data_vi"
   ]
  },
  {
   "cell_type": "code",
   "execution_count": null,
   "metadata": {},
   "outputs": [],
   "source": []
  }
 ],
 "metadata": {
  "kernelspec": {
   "display_name": "base",
   "language": "python",
   "name": "python3"
  },
  "language_info": {
   "codemirror_mode": {
    "name": "ipython",
    "version": 3
   },
   "file_extension": ".py",
   "mimetype": "text/x-python",
   "name": "python",
   "nbconvert_exporter": "python",
   "pygments_lexer": "ipython3",
   "version": "3.11.7"
  }
 },
 "nbformat": 4,
 "nbformat_minor": 2
}
