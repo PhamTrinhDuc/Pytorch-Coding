{
 "cells": [
  {
   "cell_type": "code",
   "execution_count": null,
   "metadata": {},
   "outputs": [],
   "source": []
  },
  {
   "cell_type": "markdown",
   "metadata": {},
   "source": [
    "## MACHINE TRANSLATION USING RNNs"
   ]
  },
  {
   "cell_type": "markdown",
   "metadata": {},
   "source": [
    "### 1. DATASET"
   ]
  },
  {
   "cell_type": "code",
   "execution_count": 2,
   "metadata": {},
   "outputs": [],
   "source": [
    "from datasets import load_dataset\n",
    "\n",
    "data = load_dataset(\n",
    "    \"harouzie/vi_en-translation\"\n",
    ")"
   ]
  },
  {
   "cell_type": "code",
   "execution_count": 3,
   "metadata": {},
   "outputs": [
    {
     "data": {
      "text/plain": [
       "DatasetDict({\n",
       "    train: Dataset({\n",
       "        features: ['English', 'Vietnamese'],\n",
       "        num_rows: 203272\n",
       "    })\n",
       "    test: Dataset({\n",
       "        features: ['English', 'Vietnamese'],\n",
       "        num_rows: 25409\n",
       "    })\n",
       "    valid: Dataset({\n",
       "        features: ['English', 'Vietnamese'],\n",
       "        num_rows: 25409\n",
       "    })\n",
       "})"
      ]
     },
     "execution_count": 3,
     "metadata": {},
     "output_type": "execute_result"
    }
   ],
   "source": [
    "data"
   ]
  },
  {
   "cell_type": "code",
   "execution_count": 4,
   "metadata": {},
   "outputs": [],
   "source": [
    "train_df = data['train']\n",
    "test_df = data['test']\n",
    "valid_df = data['test']"
   ]
  },
  {
   "cell_type": "code",
   "execution_count": 5,
   "metadata": {},
   "outputs": [
    {
     "data": {
      "text/plain": [
       "{'English': \"I heard that since Tom isn't feeling well he won't come to school today\",\n",
       " 'Vietnamese': 'tôi nghe nói rằng vì tom không khỏe nên hôm nay anh ấy sẽ không đến trường'}"
      ]
     },
     "execution_count": 5,
     "metadata": {},
     "output_type": "execute_result"
    }
   ],
   "source": [
    "train_df[0]"
   ]
  },
  {
   "cell_type": "markdown",
   "metadata": {},
   "source": [
    "### 2. TOKENIZATION"
   ]
  },
  {
   "cell_type": "code",
   "execution_count": 6,
   "metadata": {},
   "outputs": [
    {
     "name": "stderr",
     "output_type": "stream",
     "text": [
      "/home/ducpham/anaconda3/lib/python3.11/site-packages/torchtext/data/__init__.py:4: UserWarning: \n",
      "/!\\ IMPORTANT WARNING ABOUT TORCHTEXT STATUS /!\\ \n",
      "Torchtext is deprecated and the last released version will be 0.18 (this one). You can silence this warning by calling the following at the beginnign of your scripts: `import torchtext; torchtext.disable_torchtext_deprecation_warning()`\n",
      "  warnings.warn(torchtext._TORCHTEXT_DEPRECATION_MSG)\n",
      "/home/ducpham/anaconda3/lib/python3.11/site-packages/torchtext/vocab/__init__.py:4: UserWarning: \n",
      "/!\\ IMPORTANT WARNING ABOUT TORCHTEXT STATUS /!\\ \n",
      "Torchtext is deprecated and the last released version will be 0.18 (this one). You can silence this warning by calling the following at the beginnign of your scripts: `import torchtext; torchtext.disable_torchtext_deprecation_warning()`\n",
      "  warnings.warn(torchtext._TORCHTEXT_DEPRECATION_MSG)\n",
      "/home/ducpham/anaconda3/lib/python3.11/site-packages/torchtext/utils.py:4: UserWarning: \n",
      "/!\\ IMPORTANT WARNING ABOUT TORCHTEXT STATUS /!\\ \n",
      "Torchtext is deprecated and the last released version will be 0.18 (this one). You can silence this warning by calling the following at the beginnign of your scripts: `import torchtext; torchtext.disable_torchtext_deprecation_warning()`\n",
      "  warnings.warn(torchtext._TORCHTEXT_DEPRECATION_MSG)\n"
     ]
    }
   ],
   "source": [
    "from torchtext.data.utils import get_tokenizer\n",
    "from torchtext.vocab import build_vocab_from_iterator\n",
    "\n",
    "SRC_LANGUAGE = \"English\"\n",
    "TGT_LANGUAGE = \"Vietnamese\"\n",
    "\n",
    "token_transform = {}\n",
    "vocab_transform = {}\n",
    "\n",
    "token_transform[SRC_LANGUAGE] = get_tokenizer(\"basic_english\")\n",
    "token_transform[TGT_LANGUAGE] = get_tokenizer(\"basic_english\")"
   ]
  },
  {
   "cell_type": "code",
   "execution_count": 11,
   "metadata": {},
   "outputs": [],
   "source": [
    "from typing import Literal, List, Dict\n",
    "\n",
    "def yield_tokens(examples: Dict[str, List], \n",
    "                language: str = Literal[\"Vietnamese\", \"English\"]):\n",
    "    \n",
    "    for text in examples[language]:\n",
    "        yield token_transform[language](text)\n"
   ]
  },
  {
   "cell_type": "code",
   "execution_count": 12,
   "metadata": {},
   "outputs": [],
   "source": [
    "special_symbols = ['<unk>', '<pad>', '<bos>', '<eos>']\n",
    "UNK_IDX, PAD_IDX, BOS_IDX, EOS_IDX = 0, 1, 2, 3\n",
    "\n",
    "for lang in [SRC_LANGUAGE, TGT_LANGUAGE]:\n",
    "\n",
    "    # Create torchtext's Vocab object\n",
    "    vocab_transform[lang] = build_vocab_from_iterator(\n",
    "        yield_tokens(train_df, lang),\n",
    "        min_freq=1,\n",
    "        specials=special_symbols,\n",
    "        special_first=True\n",
    "    )\n",
    "\n",
    "    vocab_transform[lang].set_default_index(UNK_IDX)"
   ]
  },
  {
   "cell_type": "code",
   "execution_count": 14,
   "metadata": {},
   "outputs": [
    {
     "name": "stdout",
     "output_type": "stream",
     "text": [
      "['<unk>', '<pad>', '<bos>', '<eos>', '.', \"'\", 'i', 'to', 'the', 'tom']\n",
      "['<unk>', '<pad>', '<bos>', '<eos>', 'tôi', '.', 'bạn', 'không', 'tom', 'có']\n"
     ]
    }
   ],
   "source": [
    "print(vocab_transform[SRC_LANGUAGE].get_itos()[:10])\n",
    "print(vocab_transform[TGT_LANGUAGE].get_itos()[:10])\n"
   ]
  },
  {
   "cell_type": "code",
   "execution_count": 15,
   "metadata": {},
   "outputs": [
    {
     "data": {
      "text/plain": [
       "(19323, 6606)"
      ]
     },
     "execution_count": 15,
     "metadata": {},
     "output_type": "execute_result"
    }
   ],
   "source": [
    "VOCAB_SIZE_EN = len(vocab_transform[SRC_LANGUAGE])\n",
    "VOCAB_SIZE_VI = len(vocab_transform[TGT_LANGUAGE])\n",
    "VOCAB_SIZE_EN, VOCAB_SIZE_VI"
   ]
  },
  {
   "cell_type": "markdown",
   "metadata": {},
   "source": [
    "### 3. DATA LOADER"
   ]
  },
  {
   "cell_type": "code",
   "execution_count": 21,
   "metadata": {},
   "outputs": [],
   "source": [
    "import torch\n",
    "from torch.nn.utils.rnn import pad_sequence\n",
    "\n",
    "MAX_LEN = 100\n",
    "\n",
    "# helper function to club together sequential operations\n",
    "def sequential_transforms(*transforms):\n",
    "    def func(txt_input):\n",
    "        for transform in transforms:\n",
    "            txt_input = transform(txt_input)\n",
    "        return txt_input\n",
    "    return func\n",
    "\n",
    "# function to add BOS/EOS and create tensor for input sequence indices\n",
    "def tensor_transform(token_ids):\n",
    "    return torch.cat((torch.tensor([BOS_IDX]),\n",
    "                      torch.tensor(token_ids),\n",
    "                      torch.tensor([EOS_IDX])))\n",
    "\n",
    "# ``src`` and ``tgt`` language text transforms to convert raw strings into tensors indices\n",
    "text_transform = {}\n",
    "for lang in [SRC_LANGUAGE, TGT_LANGUAGE]:\n",
    "    text_transform[lang] = sequential_transforms(\n",
    "        token_transform[lang], # Tokenization\n",
    "        vocab_transform[lang], # Numericalization\n",
    "        tensor_transform # Add BOS/EOS and create tensor\n",
    "    )\n",
    "\n",
    "def truncate(sample):\n",
    "    if sample.size(0) > MAX_LEN:\n",
    "        return sample[MAX_LEN:, :]\n",
    "    else:\n",
    "        return sample\n",
    "\n",
    "# function to collate data samples into batch tensors\n",
    "def collate_fn(batch):\n",
    "    src_batch, tgt_batch = [], []\n",
    "    for sample in batch:\n",
    "        src_sample, tgt_sample = sample[SRC_LANGUAGE], sample[TGT_LANGUAGE]\n",
    "        src_batch.append(text_transform[SRC_LANGUAGE](src_sample).to(dtype=torch.int64))\n",
    "        tgt_batch.append(text_transform[TGT_LANGUAGE](tgt_sample).to(dtype=torch.int64))\n",
    "\n",
    "    src_batch = pad_sequence(src_batch, padding_value=PAD_IDX, batch_first=True)\n",
    "    src_batch = truncate(src_batch)\n",
    "    tgt_batch = pad_sequence(tgt_batch, padding_value=PAD_IDX, batch_first=True)\n",
    "    tgt_batch = truncate(tgt_batch)\n",
    "    return src_batch, tgt_batch"
   ]
  },
  {
   "cell_type": "code",
   "execution_count": 22,
   "metadata": {},
   "outputs": [],
   "source": [
    "from torch.utils.data import DataLoader\n",
    "\n",
    "BATCH_SIZE = 32\n",
    "\n",
    "train_dataloader = DataLoader(\n",
    "    train_df,\n",
    "    batch_size=BATCH_SIZE,\n",
    "    collate_fn=collate_fn,\n",
    "    num_workers=2\n",
    ")\n",
    "\n",
    "valid_dataloader = DataLoader(\n",
    "    valid_df,\n",
    "    batch_size=BATCH_SIZE,\n",
    "    collate_fn=collate_fn,\n",
    "    num_workers=2\n",
    ")\n",
    "\n",
    "test_dataloader = DataLoader(\n",
    "    test_df,\n",
    "    batch_size=BATCH_SIZE,\n",
    "    collate_fn=collate_fn,\n",
    "    num_workers=2\n",
    ")"
   ]
  },
  {
   "cell_type": "code",
   "execution_count": 23,
   "metadata": {},
   "outputs": [
    {
     "data": {
      "text/plain": [
       "(torch.Size([32, 20]), torch.Size([32, 20]))"
      ]
     },
     "execution_count": 23,
     "metadata": {},
     "output_type": "execute_result"
    }
   ],
   "source": [
    "src_ids, tgt_ids = next(iter(train_dataloader))\n",
    "src_ids.shape, tgt_ids.shape"
   ]
  },
  {
   "cell_type": "markdown",
   "metadata": {},
   "source": [
    "### 4. MODEL"
   ]
  },
  {
   "cell_type": "code",
   "execution_count": 24,
   "metadata": {},
   "outputs": [],
   "source": [
    "import torch.nn as nn\n",
    "\n",
    "class EncoderRNN(nn.Module):\n",
    "    def __init__(self, vocab_size: int, embed_dim: int, hidden_dim: int, dropout: float = 0.1):\n",
    "        super().__init__()\n",
    "\n",
    "        self.embed_model = nn.Embedding(num_embeddings=vocab_size, \n",
    "                                        embedding_dim=embed_dim)\n",
    "        self.model = nn.GRU(input_size=embed_dim, \n",
    "                            hidden_size=hidden_dim, \n",
    "                            num_layers=2, \n",
    "                            bidirectional=True, \n",
    "                            batch_first=True)\n",
    "        self.dropout = nn.Dropout(p=dropout)\n",
    "\n",
    "    def forward(self, x): # shape x: [N, sequence_len]\n",
    "        embedding = self.embed_model(x) # shape x: [N, sequence_len, embed_dim]\n",
    "        embed_dropout = self.dropout(embedding) # shape x: [N, sequence_len, embed_dim]\n",
    "        output_gru, hidden_gru = self.model(embed_dropout) # output_gru: [N, sequence_len, hidden_dim * 2], hidden_gru: [num_layer, N, hidden_dim]\n",
    "        return output_gru, hidden_gru \n",
    "    "
   ]
  },
  {
   "cell_type": "code",
   "execution_count": 25,
   "metadata": {},
   "outputs": [
    {
     "name": "stdout",
     "output_type": "stream",
     "text": [
      "torch.Size([32, 20, 512])\n",
      "torch.Size([4, 32, 256])\n"
     ]
    }
   ],
   "source": [
    "encoder = EncoderRNN(vocab_size=VOCAB_SIZE_EN, embed_dim=64, hidden_dim=256, dropout=0.1)\n",
    "output_encoder = encoder(src_ids)\n",
    "print(output_encoder[0].shape) # 512 because bidirectional = True\n",
    "print(output_encoder[1].shape)"
   ]
  },
  {
   "cell_type": "code",
   "execution_count": 26,
   "metadata": {},
   "outputs": [],
   "source": [
    "class DecoderRNN(nn.Module):\n",
    "    def __init__(self, \n",
    "                 vocab_size: int, \n",
    "                 embed_dim: int,\n",
    "                 hidden_dim: int, \n",
    "                 output_dim: int,\n",
    "                 dropout: float = 0.1,):\n",
    "        super().__init__()\n",
    "        self.embed_model = nn.Embedding(\n",
    "            num_embeddings=vocab_size, \n",
    "            embedding_dim=embed_dim\n",
    "        )\n",
    "\n",
    "        self.model = nn.GRU(input_size=embed_dim, \n",
    "                            hidden_size=hidden_dim, \n",
    "                            num_layers=2, \n",
    "                            bidirectional=True, \n",
    "                            batch_first=True,\n",
    "                            dropout=dropout)\n",
    "        \n",
    "        self.linear = nn.Linear(in_features=hidden_dim * 2, out_features=output_dim)\n",
    "    \n",
    "    def forward(self, x, hidden): # x: [N, sequence_len], hidden: [num_layers, N, hidden_dim]\n",
    "        embedding = self.embed_model(x) # [N, sequence_len, embed_dim]\n",
    "        output_gru, hidden_gru = self.model(embedding, hidden) # output_gru: [N, sequence_len, hidden_dim * 2], hidden_gru: [num_layers, N, hidden_dim]\n",
    "        output = self.linear(output_gru) # [N, sequence_len, vocab_size_vi] \n",
    "        return output.permute(0, 2, 1) # [N, vocab_size_vi, sequence_len]\n"
   ]
  },
  {
   "cell_type": "code",
   "execution_count": 27,
   "metadata": {},
   "outputs": [
    {
     "name": "stdout",
     "output_type": "stream",
     "text": [
      "torch.Size([32, 6606, 20])\n"
     ]
    }
   ],
   "source": [
    "decoder = DecoderRNN(vocab_size=VOCAB_SIZE_VI, \n",
    "                     embed_dim=64, \n",
    "                     hidden_dim=256, \n",
    "                     output_dim=VOCAB_SIZE_VI)\n",
    "\n",
    "output_decoder = decoder(tgt_ids, output_encoder[1])\n",
    "print(output_decoder.shape)"
   ]
  },
  {
   "cell_type": "code",
   "execution_count": 28,
   "metadata": {},
   "outputs": [],
   "source": [
    "class Seq2Seq(nn.Module):\n",
    "    def __init__(self, encoder, decoder, BOS_IDX, device):\n",
    "        self.encoder = encoder \n",
    "        self.decoder = decoder\n",
    "        self.BOS_IDX = BOS_IDX\n",
    "        self.device = device\n",
    "    \n",
    "    def forward(self, src_ids, tgt_ids):\n",
    "        pass"
   ]
  },
  {
   "cell_type": "code",
   "execution_count": 196,
   "metadata": {},
   "outputs": [
    {
     "data": {
      "text/plain": [
       "tensor([[2],\n",
       "        [2],\n",
       "        [2],\n",
       "        [2],\n",
       "        [2],\n",
       "        [2],\n",
       "        [2],\n",
       "        [2],\n",
       "        [2],\n",
       "        [2],\n",
       "        [2],\n",
       "        [2],\n",
       "        [2],\n",
       "        [2],\n",
       "        [2],\n",
       "        [2],\n",
       "        [2],\n",
       "        [2],\n",
       "        [2],\n",
       "        [2],\n",
       "        [2],\n",
       "        [2],\n",
       "        [2],\n",
       "        [2],\n",
       "        [2],\n",
       "        [2],\n",
       "        [2],\n",
       "        [2],\n",
       "        [2],\n",
       "        [2],\n",
       "        [2],\n",
       "        [2]])"
      ]
     },
     "execution_count": 196,
     "metadata": {},
     "output_type": "execute_result"
    }
   ],
   "source": [
    "data = torch.empty(size=(32, 1), dtype=torch.long, device=\"cpu\")\n",
    "data.fill_(BOS_IDX)"
   ]
  },
  {
   "cell_type": "code",
   "execution_count": null,
   "metadata": {},
   "outputs": [],
   "source": []
  }
 ],
 "metadata": {
  "kernelspec": {
   "display_name": "base",
   "language": "python",
   "name": "python3"
  },
  "language_info": {
   "codemirror_mode": {
    "name": "ipython",
    "version": 3
   },
   "file_extension": ".py",
   "mimetype": "text/x-python",
   "name": "python",
   "nbconvert_exporter": "python",
   "pygments_lexer": "ipython3",
   "version": "3.11.7"
  }
 },
 "nbformat": 4,
 "nbformat_minor": 2
}
