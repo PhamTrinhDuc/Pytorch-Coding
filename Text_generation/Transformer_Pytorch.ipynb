{
 "cells": [
  {
   "cell_type": "code",
   "execution_count": null,
   "metadata": {},
   "outputs": [],
   "source": []
  },
  {
   "cell_type": "code",
   "execution_count": null,
   "metadata": {},
   "outputs": [],
   "source": []
  },
  {
   "cell_type": "markdown",
   "metadata": {},
   "source": [
    "### 1. ENCODER LAYER"
   ]
  },
  {
   "cell_type": "code",
   "execution_count": 10,
   "metadata": {},
   "outputs": [
    {
     "name": "stdout",
     "output_type": "stream",
     "text": [
      "tensor([[[ 0.5854,  0.8222, -1.4076],\n",
      "         [ 0.1275,  1.1560, -1.2835]]], grad_fn=<NativeLayerNormBackward0>)\n"
     ]
    }
   ],
   "source": [
    "import torch\n",
    "import torch.nn as nn \n",
    "\n",
    "# Initialize the TransformerEncoderLayer\n",
    "encoder_layer = nn.TransformerEncoderLayer(\n",
    "    d_model=3, \n",
    "    nhead=1, \n",
    "    dim_feedforward=4, \n",
    "    dropout=0.1, \n",
    "    activation=\"relu\",\n",
    "    batch_first=True\n",
    ")\n",
    "\n",
    "\n",
    "# run for a sample\n",
    "src = torch.Tensor([[[ 0.69,  0.72, -1.41],\n",
    "                     [ 0.21,  1.10, -1.31]]])\n",
    "\n",
    "out = encoder_layer(src)\n",
    "print(out)"
   ]
  },
  {
   "cell_type": "code",
   "execution_count": 11,
   "metadata": {},
   "outputs": [
    {
     "data": {
      "text/plain": [
       "(torch.Size([1, 2, 3]), torch.Size([1, 2, 3]))"
      ]
     },
     "execution_count": 11,
     "metadata": {},
     "output_type": "execute_result"
    }
   ],
   "source": [
    "src.shape, out.shape "
   ]
  },
  {
   "cell_type": "code",
   "execution_count": 12,
   "metadata": {},
   "outputs": [
    {
     "name": "stdout",
     "output_type": "stream",
     "text": [
      "tensor([[[ 0.5983,  0.8106, -1.4089],\n",
      "         [ 0.0828,  1.1812, -1.2640]]], grad_fn=<NativeLayerNormBackward0>)\n"
     ]
    }
   ],
   "source": [
    "# check\n",
    "\n",
    "x = encoder_layer.self_attn(src, src, src)[0]\n",
    "x = src + x\n",
    "x1 = encoder_layer.norm1(x)\n",
    "x = encoder_layer.linear2( torch.nn.ReLU()(encoder_layer.linear1(x1)) )\n",
    "x = x + x1\n",
    "x = encoder_layer.norm2(x)\n",
    "print(x)"
   ]
  },
  {
   "cell_type": "markdown",
   "metadata": {},
   "source": [
    "### 2. MARK ENCODER LAYER"
   ]
  },
  {
   "cell_type": "code",
   "execution_count": 13,
   "metadata": {},
   "outputs": [
    {
     "name": "stdout",
     "output_type": "stream",
     "text": [
      "tensor([[[ 0.6199,  0.7909, -1.4108],\n",
      "         [ 0.0297,  1.2096, -1.2393],\n",
      "         [-0.7893,  1.4109, -0.6216]]], grad_fn=<NativeLayerNormBackward0>)\n"
     ]
    }
   ],
   "source": [
    "# Initialize the TransformerEncoderLayer\n",
    "encoder_layer_mask = nn.TransformerEncoderLayer(\n",
    "    d_model=3, \n",
    "    nhead=1, \n",
    "    dim_feedforward=4, \n",
    "    dropout=0.1, \n",
    "    activation=\"relu\",\n",
    "    batch_first=True\n",
    ")\n",
    "\n",
    "# run for a sample\n",
    "src = torch.Tensor([[[ 0.69,  0.72, -1.41],\n",
    "                     [ 0.21,  1.10, -1.31],\n",
    "                     [-0.88,  0.60, -0.31]]])\n",
    "\n",
    "mask = torch.triu(input=torch.ones(3, 3), diagonal=1).bool()\n",
    "\n",
    "out = encoder_layer_mask(src, src_mask=mask)\n",
    "print(out)"
   ]
  },
  {
   "cell_type": "code",
   "execution_count": 14,
   "metadata": {},
   "outputs": [
    {
     "data": {
      "text/plain": [
       "(torch.Size([1, 3, 3]), torch.Size([1, 3, 3]))"
      ]
     },
     "execution_count": 14,
     "metadata": {},
     "output_type": "execute_result"
    }
   ],
   "source": [
    "src.shape, out.shape"
   ]
  },
  {
   "cell_type": "code",
   "execution_count": 15,
   "metadata": {},
   "outputs": [
    {
     "name": "stdout",
     "output_type": "stream",
     "text": [
      "tensor([[[ 0.6375,  0.7745, -1.4120],\n",
      "         [ 0.0828,  1.1812, -1.2640],\n",
      "         [-1.1091,  1.3144, -0.2053]]], grad_fn=<NativeLayerNormBackward0>)\n"
     ]
    }
   ],
   "source": [
    "# check\n",
    "\n",
    "x = encoder_layer.self_attn(src, src, src, attn_mask=mask)[0]\n",
    "x = src + x\n",
    "x1 = encoder_layer.norm1(x)\n",
    "x = encoder_layer.linear2( torch.nn.ReLU()(encoder_layer.linear1(x1)) )\n",
    "x = x + x1\n",
    "x = encoder_layer.norm2(x)\n",
    "print(x)"
   ]
  },
  {
   "cell_type": "code",
   "execution_count": null,
   "metadata": {},
   "outputs": [],
   "source": []
  }
 ],
 "metadata": {
  "kernelspec": {
   "display_name": "base",
   "language": "python",
   "name": "python3"
  },
  "language_info": {
   "codemirror_mode": {
    "name": "ipython",
    "version": 3
   },
   "file_extension": ".py",
   "mimetype": "text/x-python",
   "name": "python",
   "nbconvert_exporter": "python",
   "pygments_lexer": "ipython3",
   "version": "3.11.7"
  }
 },
 "nbformat": 4,
 "nbformat_minor": 2
}
