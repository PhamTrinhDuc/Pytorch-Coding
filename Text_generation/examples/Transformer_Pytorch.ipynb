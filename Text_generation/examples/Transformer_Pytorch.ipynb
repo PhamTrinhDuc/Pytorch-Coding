{
 "cells": [
  {
   "cell_type": "code",
   "execution_count": null,
   "metadata": {},
   "outputs": [],
   "source": []
  },
  {
   "cell_type": "code",
   "execution_count": null,
   "metadata": {},
   "outputs": [],
   "source": []
  },
  {
   "cell_type": "markdown",
   "metadata": {},
   "source": [
    "### 1. ENCODER LAYER"
   ]
  },
  {
   "cell_type": "code",
   "execution_count": 10,
   "metadata": {},
   "outputs": [
    {
     "name": "stdout",
     "output_type": "stream",
     "text": [
      "tensor([[[ 0.5854,  0.8222, -1.4076],\n",
      "         [ 0.1275,  1.1560, -1.2835]]], grad_fn=<NativeLayerNormBackward0>)\n"
     ]
    }
   ],
   "source": [
    "import torch\n",
    "import torch.nn as nn \n",
    "\n",
    "# Initialize the TransformerEncoderLayer\n",
    "encoder_layer = nn.TransformerEncoderLayer(\n",
    "    d_model=3, \n",
    "    nhead=1, \n",
    "    dim_feedforward=4, \n",
    "    dropout=0.1, \n",
    "    activation=\"relu\",\n",
    "    batch_first=True\n",
    ")\n",
    "\n",
    "\n",
    "# run for a sample\n",
    "src = torch.Tensor([[[ 0.69,  0.72, -1.41],\n",
    "                     [ 0.21,  1.10, -1.31]]])\n",
    "\n",
    "out = encoder_layer(src)\n",
    "print(out)"
   ]
  },
  {
   "cell_type": "code",
   "execution_count": 11,
   "metadata": {},
   "outputs": [
    {
     "data": {
      "text/plain": [
       "(torch.Size([1, 2, 3]), torch.Size([1, 2, 3]))"
      ]
     },
     "execution_count": 11,
     "metadata": {},
     "output_type": "execute_result"
    }
   ],
   "source": [
    "src.shape, out.shape "
   ]
  },
  {
   "cell_type": "code",
   "execution_count": 12,
   "metadata": {},
   "outputs": [
    {
     "name": "stdout",
     "output_type": "stream",
     "text": [
      "tensor([[[ 0.5983,  0.8106, -1.4089],\n",
      "         [ 0.0828,  1.1812, -1.2640]]], grad_fn=<NativeLayerNormBackward0>)\n"
     ]
    }
   ],
   "source": [
    "# check\n",
    "\n",
    "x = encoder_layer.self_attn(src, src, src)[0]\n",
    "x = src + x\n",
    "x1 = encoder_layer.norm1(x)\n",
    "x = encoder_layer.linear2( torch.nn.ReLU()(encoder_layer.linear1(x1)) )\n",
    "x = x + x1\n",
    "x = encoder_layer.norm2(x)\n",
    "print(x)"
   ]
  },
  {
   "cell_type": "markdown",
   "metadata": {},
   "source": [
    "### 2. MARK ENCODER LAYER"
   ]
  },
  {
   "cell_type": "code",
   "execution_count": 13,
   "metadata": {},
   "outputs": [
    {
     "name": "stdout",
     "output_type": "stream",
     "text": [
      "tensor([[[ 0.6199,  0.7909, -1.4108],\n",
      "         [ 0.0297,  1.2096, -1.2393],\n",
      "         [-0.7893,  1.4109, -0.6216]]], grad_fn=<NativeLayerNormBackward0>)\n"
     ]
    }
   ],
   "source": [
    "# Initialize the TransformerEncoderLayer\n",
    "encoder_layer_mask = nn.TransformerEncoderLayer(\n",
    "    d_model=3, \n",
    "    nhead=1, \n",
    "    dim_feedforward=4, \n",
    "    dropout=0.1, \n",
    "    activation=\"relu\",\n",
    "    batch_first=True\n",
    ")\n",
    "\n",
    "# run for a sample\n",
    "src = torch.Tensor([[[ 0.69,  0.72, -1.41],\n",
    "                     [ 0.21,  1.10, -1.31],\n",
    "                     [-0.88,  0.60, -0.31]]])\n",
    "\n",
    "mask = torch.triu(input=torch.ones(3, 3), diagonal=1).bool()\n",
    "\n",
    "out = encoder_layer_mask(src, src_mask=mask)\n",
    "print(out)"
   ]
  },
  {
   "cell_type": "code",
   "execution_count": 14,
   "metadata": {},
   "outputs": [
    {
     "data": {
      "text/plain": [
       "(torch.Size([1, 3, 3]), torch.Size([1, 3, 3]))"
      ]
     },
     "execution_count": 14,
     "metadata": {},
     "output_type": "execute_result"
    }
   ],
   "source": [
    "src.shape, out.shape"
   ]
  },
  {
   "cell_type": "code",
   "execution_count": 15,
   "metadata": {},
   "outputs": [
    {
     "name": "stdout",
     "output_type": "stream",
     "text": [
      "tensor([[[ 0.6375,  0.7745, -1.4120],\n",
      "         [ 0.0828,  1.1812, -1.2640],\n",
      "         [-1.1091,  1.3144, -0.2053]]], grad_fn=<NativeLayerNormBackward0>)\n"
     ]
    }
   ],
   "source": [
    "# check\n",
    "\n",
    "x = encoder_layer.self_attn(src, src, src, attn_mask=mask)[0]\n",
    "x = src + x\n",
    "x1 = encoder_layer.norm1(x)\n",
    "x = encoder_layer.linear2( torch.nn.ReLU()(encoder_layer.linear1(x1)) )\n",
    "x = x + x1\n",
    "x = encoder_layer.norm2(x)\n",
    "print(x)"
   ]
  },
  {
   "cell_type": "code",
   "execution_count": null,
   "metadata": {},
   "outputs": [],
   "source": []
  },
  {
   "cell_type": "markdown",
   "metadata": {},
   "source": [
    "### 3. TRANSFORMER "
   ]
  },
  {
   "cell_type": "code",
   "execution_count": 16,
   "metadata": {},
   "outputs": [
    {
     "name": "stdout",
     "output_type": "stream",
     "text": [
      "tensor([[[-0.2936, -1.0512,  1.3449],\n",
      "         [ 1.1113,  0.2018, -1.3131]]], grad_fn=<NativeLayerNormBackward0>)\n"
     ]
    }
   ],
   "source": [
    "encoder_layer = nn.TransformerEncoderLayer(\n",
    "    d_model=3, \n",
    "    nhead=1, \n",
    "    dim_feedforward=4, \n",
    "    dropout=0.1, \n",
    "    activation=\"relu\",\n",
    "    batch_first=True\n",
    ")\n",
    "\n",
    "src = torch.Tensor([[[0.48, 0.44, 0.71],\n",
    "                     [0.65, 0.80, 0.79]]])\n",
    "context = encoder_layer(src)\n",
    "print(context)"
   ]
  },
  {
   "cell_type": "code",
   "execution_count": 17,
   "metadata": {},
   "outputs": [
    {
     "name": "stdout",
     "output_type": "stream",
     "text": [
      "tensor([[[-0.0987,  1.2711, -1.1724],\n",
      "         [-1.2769,  0.1121,  1.1648],\n",
      "         [-1.2342,  1.2150,  0.0192],\n",
      "         [ 0.6845,  0.7294, -1.4140]]], grad_fn=<NativeLayerNormBackward0>)\n"
     ]
    }
   ],
   "source": [
    "decoder_layer = nn.TransformerDecoderLayer(d_model=3, \n",
    "                                           nhead=1, \n",
    "                                           batch_first=True,\n",
    "                                           dim_feedforward=4,\n",
    "                                           dropout=0.0, \n",
    "                                           bias=False)\n",
    "\n",
    "# test\n",
    "target = torch.Tensor( [[[0.3516, 0.9509, 0.2771],\n",
    "                         [0.1993, 0.0177, 0.2628],\n",
    "                         [0.0774, 0.5253, 0.6413],\n",
    "                         [0.6749, 0.5501, 0.1641]]])\n",
    "out = decoder_layer(target, context) # target: ~ Q, context: ~ K, V\n",
    "print(out)"
   ]
  },
  {
   "cell_type": "markdown",
   "metadata": {},
   "source": [
    "### 4. MASKED TRANSFORMER"
   ]
  },
  {
   "cell_type": "code",
   "execution_count": 18,
   "metadata": {},
   "outputs": [
    {
     "name": "stdout",
     "output_type": "stream",
     "text": [
      "tensor([[[ 0.0172,  1.2160, -1.2333],\n",
      "         [ 0.5286, -1.4003,  0.8716],\n",
      "         [-1.3543,  0.3243,  1.0299],\n",
      "         [ 1.2263, -0.0031, -1.2232]]], grad_fn=<NativeLayerNormBackward0>)\n"
     ]
    }
   ],
   "source": [
    "encoder_layer = nn.TransformerEncoderLayer(\n",
    "    d_model=3, \n",
    "    nhead=1, \n",
    "    dim_feedforward=4, \n",
    "    dropout=0.1, \n",
    "    activation=\"relu\",\n",
    "    batch_first=True\n",
    ")\n",
    "\n",
    "decoder_layer = nn.TransformerDecoderLayer(d_model=3, \n",
    "                                           nhead=1, \n",
    "                                           batch_first=True,\n",
    "                                           dim_feedforward=4,\n",
    "                                           dropout=0.0, \n",
    "                                           bias=False)\n",
    "\n",
    "\n",
    "src = torch.Tensor([[[0.48, 0.44, 0.71],\n",
    "                     [0.65, 0.80, 0.79]]])\n",
    "\n",
    "tgt = torch.Tensor([[[0.3516, 0.9509, 0.2771],\n",
    "                     [0.1993, 0.0177, 0.2628],\n",
    "                     [0.0774, 0.5253, 0.6413],\n",
    "                     [0.6749, 0.5501, 0.1641]]])\n",
    "\n",
    "context = encoder_layer(src)\n",
    "mask = torch.triu(input=torch.ones((4, 4)), diagonal=1).bool()\n",
    "out = decoder_layer(tgt, context, tgt_mask=mask)\n",
    "print(out)"
   ]
  },
  {
   "cell_type": "code",
   "execution_count": 19,
   "metadata": {},
   "outputs": [
    {
     "name": "stdout",
     "output_type": "stream",
     "text": [
      "tensor([[[ 0.0461,  1.2011, -1.2471],\n",
      "         [ 0.5188, -1.3988,  0.8799],\n",
      "         [-1.3214,  0.2243,  1.0971],\n",
      "         [ 1.2660, -0.0871, -1.1789]]], grad_fn=<NativeLayerNormBackward0>)\n"
     ]
    }
   ],
   "source": [
    "# check \n",
    "\n",
    "# encoder_layer\n",
    "x = encoder_layer.self_attn(src, src, src)[0]\n",
    "x = src + x\n",
    "x1 = encoder_layer.norm1(x)\n",
    "x = encoder_layer.linear2( torch.nn.ReLU()(encoder_layer.linear1(x1)) )\n",
    "x = x + x1\n",
    "context = encoder_layer.norm2(x)\n",
    "\n",
    "# decoder_layer\n",
    "mask = torch.triu(torch.ones(4, 4), diagonal=1).bool() \n",
    "x = decoder_layer.self_attn(target, target, target, attn_mask=mask)[0]\n",
    "x = target + x\n",
    "x1 = decoder_layer.norm1(x)\n",
    "x = decoder_layer.multihead_attn(x1, context, context)[0]\n",
    "x2 = decoder_layer.norm2(x + x1)\n",
    "x = decoder_layer.linear2( torch.nn.ReLU()(decoder_layer.linear1(x2)) )\n",
    "x = decoder_layer.norm3(x + x2)\n",
    "print(x)\n",
    "\n"
   ]
  }
 ],
 "metadata": {
  "kernelspec": {
   "display_name": "base",
   "language": "python",
   "name": "python3"
  },
  "language_info": {
   "codemirror_mode": {
    "name": "ipython",
    "version": 3
   },
   "file_extension": ".py",
   "mimetype": "text/x-python",
   "name": "python",
   "nbconvert_exporter": "python",
   "pygments_lexer": "ipython3",
   "version": "3.11.7"
  }
 },
 "nbformat": 4,
 "nbformat_minor": 2
}
